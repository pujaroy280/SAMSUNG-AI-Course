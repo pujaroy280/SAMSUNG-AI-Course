{
 "cells": [
  {
   "cell_type": "markdown",
   "metadata": {},
   "source": [
    "## Coding Exercise #0703"
   ]
  },
  {
   "cell_type": "code",
   "execution_count": 1,
   "metadata": {},
   "outputs": [],
   "source": [
    "import re"
   ]
  },
  {
   "cell_type": "markdown",
   "metadata": {},
   "source": [
    "### 1. Regular expressions (groups):"
   ]
  },
  {
   "cell_type": "markdown",
   "metadata": {},
   "source": [
    "#### 1.1. Some examples of group:"
   ]
  },
  {
   "cell_type": "code",
   "execution_count": 2,
   "metadata": {},
   "outputs": [
    {
     "name": "stdout",
     "output_type": "stream",
     "text": [
      "22\n"
     ]
    }
   ],
   "source": [
    "reg_ex = re.compile(\"([0-9]+)\")\n",
    "m = reg_ex.search(\"I am 22 years old. She is 20 years old.\")\n",
    "print(m.group(1))"
   ]
  },
  {
   "cell_type": "code",
   "execution_count": 3,
   "metadata": {},
   "outputs": [
    {
     "name": "stdout",
     "output_type": "stream",
     "text": [
      "22\n",
      "20\n"
     ]
    }
   ],
   "source": [
    "reg_ex = re.compile(\"([0-9]+)[^0-9]+([0-9]+)\")\n",
    "m = reg_ex.search(\"I am 22 years old. She is 20 years old.\")\n",
    "print(m.group(1))\n",
    "print(m.group(2))"
   ]
  },
  {
   "cell_type": "code",
   "execution_count": 4,
   "metadata": {},
   "outputs": [
    {
     "name": "stdout",
     "output_type": "stream",
     "text": [
      "John Wheeler\n",
      "010\n",
      "1234\n",
      "5678\n"
     ]
    }
   ],
   "source": [
    "reg_ex = re.compile(\"([^0-9]+)([0-9]+)[^0-9]+([0-9]+)[^0-9]+([0-9]+)\")\n",
    "m = reg_ex.search(\"John Wheeler 010-1234-5678\")\n",
    "print((m.group(1)).strip())\n",
    "print(m.group(2))\n",
    "print(m.group(3))\n",
    "print(m.group(4))"
   ]
  },
  {
   "cell_type": "markdown",
   "metadata": {},
   "source": [
    "#### 1.2. Some exaples of group with shorthand expression:\n",
    "\\d   =   [0-9]  <br>\n",
    "\\D    =  [^0-9]  <br>\n",
    "\\w   =   [0-9a-zA-Z_]  <br>\n",
    "\\W    =  [^0-9a-zA-Z_]  <br>"
   ]
  },
  {
   "cell_type": "code",
   "execution_count": 5,
   "metadata": {},
   "outputs": [
    {
     "name": "stdout",
     "output_type": "stream",
     "text": [
      "22\n"
     ]
    }
   ],
   "source": [
    "reg_ex = re.compile(\"(\\d+)\")\n",
    "m = reg_ex.search(\"I am 22 years old. She is 20 years old.\")\n",
    "print(m.group(1))"
   ]
  },
  {
   "cell_type": "code",
   "execution_count": 6,
   "metadata": {},
   "outputs": [
    {
     "name": "stdout",
     "output_type": "stream",
     "text": [
      "22\n",
      "20\n"
     ]
    }
   ],
   "source": [
    "reg_ex = re.compile(\"(\\d+)\\D+(\\d+)\")\n",
    "m = reg_ex.search(\"I am 22 years old. She is 20 years old.\")\n",
    "print(m.group(1))\n",
    "print(m.group(2))"
   ]
  },
  {
   "cell_type": "code",
   "execution_count": 7,
   "metadata": {},
   "outputs": [
    {
     "name": "stdout",
     "output_type": "stream",
     "text": [
      "John Wheeler\n",
      "010\n",
      "1234\n",
      "5678\n"
     ]
    }
   ],
   "source": [
    "reg_ex = re.compile(\"(\\D+)(\\d+)\\D+(\\d+)\\D+(\\d+)\")\n",
    "m = reg_ex.search(\"John Wheeler 010-1234-5678\")\n",
    "print((m.group(1)).strip())\n",
    "print(m.group(2))\n",
    "print(m.group(3))\n",
    "print(m.group(4))"
   ]
  },
  {
   "cell_type": "code",
   "execution_count": 8,
   "metadata": {},
   "outputs": [
    {
     "name": "stdout",
     "output_type": "stream",
     "text": [
      "John Wheeler 010-****-****\n"
     ]
    }
   ],
   "source": [
    "# Hide the phone number.\n",
    "reg_ex = re.compile(\"(\\D+)(\\d+)\\D+(\\d+)\\D+(\\d+)\")\n",
    "m = reg_ex.search(\"John Wheeler 010-1234-5678\")\n",
    "print((m.group(1)).strip() + \" \" + m.group(2) + \"-****-****\")"
   ]
  },
  {
   "cell_type": "code",
   "execution_count": 9,
   "metadata": {},
   "outputs": [
    {
     "name": "stdout",
     "output_type": "stream",
     "text": [
      "PHONE : 010-1234-5678\n"
     ]
    }
   ],
   "source": [
    "# Extract only the phone number.\n",
    "reg_ex = re.compile(\"(\\D+)((\\d+)\\D+(\\d+)\\D+(\\d+))\")\n",
    "m = reg_ex.search(\"John Wheeler 010-1234-5678\")\n",
    "print(\"PHONE : \" + m.group(2))"
   ]
  }
 ],
 "metadata": {
  "kernelspec": {
   "display_name": "Python 3",
   "language": "python",
   "name": "python3"
  },
  "language_info": {
   "codemirror_mode": {
    "name": "ipython",
    "version": 3
   },
   "file_extension": ".py",
   "mimetype": "text/x-python",
   "name": "python",
   "nbconvert_exporter": "python",
   "pygments_lexer": "ipython3",
   "version": "3.8.8"
  }
 },
 "nbformat": 4,
 "nbformat_minor": 4
}
