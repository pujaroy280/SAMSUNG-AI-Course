{
 "cells": [
  {
   "cell_type": "markdown",
   "metadata": {},
   "source": [
    "## Coding Exercise #0705"
   ]
  },
  {
   "cell_type": "code",
   "execution_count": 2,
   "metadata": {},
   "outputs": [],
   "source": [
    "import nltk\n",
    "#nltk.download()\n",
    "#https://www.nltk.org/data.html\n",
    "import re\n",
    "import os\n",
    "import requests\n",
    "import json\n",
    "from nltk.corpus import stopwords"
   ]
  },
  {
   "cell_type": "markdown",
   "metadata": {},
   "source": [
    "### 1. Fetching the posts:"
   ]
  },
  {
   "cell_type": "code",
   "execution_count": 3,
   "metadata": {},
   "outputs": [],
   "source": [
    "# obtain a JSON object with posts via a GET request.\n",
    "response = requests.get('https://my-json-server.typicode.com/nevkatz/sample-api-v1/db')\n",
    "\n",
    "# access the text and convert it into a JSON object.\n",
    "obj = json.loads(response.text)"
   ]
  },
  {
   "cell_type": "code",
   "execution_count": 4,
   "metadata": {},
   "outputs": [],
   "source": [
    "# access the posts property of the object.\n",
    "posts = obj['posts']\n",
    "\n",
    "# define a function for accessing the body of a post.\n",
    "def get_body(post):\n",
    "    return post['body']\n",
    "\n",
    "# turn the list of post objects into a map containing just the posts.\n",
    "my_map = map(get_body, posts)\n",
    "\n",
    "# convert the map back into a list.\n",
    "my_posts = list(my_map)"
   ]
  },
  {
   "cell_type": "code",
   "execution_count": 5,
   "metadata": {},
   "outputs": [
    {
     "name": "stdout",
     "output_type": "stream",
     "text": [
      "That's a great idea.\n",
      "Ain't nobody got time for that.\n",
      "What's going on?\n",
      "Where's the pizza?\n",
      "It's a great day!\n",
      "I daresay, where's the bus?\n",
      "I'm not available today.\n",
      "Knock, knock. Who's there?\n",
      "Couldn't we do this again?\n",
      "I won't be going this time.\n"
     ]
    }
   ],
   "source": [
    "# print a string that joins the posts with carriage returns.\n",
    "print('\\n'.join(my_posts))"
   ]
  },
  {
   "cell_type": "markdown",
   "metadata": {},
   "source": [
    "### 2. Pre-processing the posts:"
   ]
  },
  {
   "cell_type": "code",
   "execution_count": 6,
   "metadata": {},
   "outputs": [],
   "source": [
    "# iterate through each post and modify it using regular expressions.\n",
    "\n",
    "my_posts_new = []\n",
    "for post in my_posts:\n",
    "    post = post.lower()\n",
    "    post = re.sub(r\"^https://t.co/[a-zA-Z0-9]*\\s\", \" \", post)\n",
    "    post = re.sub(r\"\\s+https://t.co/[a-zA-Z0-9]*\\s\", \" \", post)\n",
    "    post = re.sub(r\"\\s+https://t.co/[a-zA-Z0-9]*$\", \" \", post)\n",
    "    post = re.sub(r\"that's\",\"that is\",post)\n",
    "    post = re.sub(r\"there's\",\"there is\",post)\n",
    "    post = re.sub(r\"what's\",\"what is\",post)\n",
    "    post = re.sub(r\"where's\",\"where is\",post)\n",
    "    post = re.sub(r\"it's\",\"it is\",post)\n",
    "    post = re.sub(r\"who's\",\"who is\",post)\n",
    "    post = re.sub(r\"i'm\",\"i am\",post)\n",
    "    post = re.sub(r\"she's\",\"she is\",post)\n",
    "    post = re.sub(r\"he's\",\"he is\",post)\n",
    "    post = re.sub(r\"they're\",\"they are\",post)\n",
    "    post = re.sub(r\"who're\",\"who are\",post)\n",
    "    post = re.sub(r\"ain't\",\"am not\",post)\n",
    "    post = re.sub(r\"wouldn't\",\"would not\",post)\n",
    "    post = re.sub(r\"shouldn't\",\"should not\",post)\n",
    "    post = re.sub(r\"can't\",\"can not\",post)\n",
    "    post = re.sub(r\"couldn't\",\"could not\",post)\n",
    "    post = re.sub(r\"won't\",\"will not\",post)\n",
    "    post = re.sub(r\"\\W\",\" \",post)\n",
    "    post = re.sub(r\"\\d\",\" \",post)\n",
    "    post = re.sub(r\"\\s+[a-z]\\s+\",\" \",post)\n",
    "    post = re.sub(r\"\\s+[a-z]$\",\" \",post)\n",
    "    post = re.sub(r\"^[a-z]\\s+\",\" \",post)\n",
    "    post = re.sub(r\"\\s+\",\" \",post)\n",
    "    words = nltk.word_tokenize(post)\n",
    "    words = [x for x in words if x not in stopwords.words('english')]\n",
    "    post = ' '.join(words) \n",
    "    my_posts_new.append(post)"
   ]
  },
  {
   "cell_type": "code",
   "execution_count": 7,
   "metadata": {},
   "outputs": [
    {
     "name": "stdout",
     "output_type": "stream",
     "text": [
      "1 : great idea\n",
      "2 : nobody got time\n",
      "3 : going\n",
      "4 : pizza\n",
      "5 : great day\n",
      "6 : daresay bus\n",
      "7 : available today\n",
      "8 : knock knock\n",
      "9 : could\n",
      "10 : going time\n"
     ]
    }
   ],
   "source": [
    "# Print out the posts.\n",
    "\n",
    "i = 0\n",
    "for tw in my_posts_new:\n",
    "    i += 1\n",
    "    print(str(i) + \" : \" + tw)"
   ]
  }
 ],
 "metadata": {
  "kernelspec": {
   "display_name": "Python 3",
   "language": "python",
   "name": "python3"
  },
  "language_info": {
   "codemirror_mode": {
    "name": "ipython",
    "version": 3
   },
   "file_extension": ".py",
   "mimetype": "text/x-python",
   "name": "python",
   "nbconvert_exporter": "python",
   "pygments_lexer": "ipython3",
   "version": "3.8.8"
  }
 },
 "nbformat": 4,
 "nbformat_minor": 4
}
