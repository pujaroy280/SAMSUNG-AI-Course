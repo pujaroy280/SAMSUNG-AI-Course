{
 "cells": [
  {
   "cell_type": "markdown",
   "id": "7ef9b0eb",
   "metadata": {},
   "source": [
    "## Coding Exercise #0901"
   ]
  },
  {
   "cell_type": "code",
   "execution_count": null,
   "id": "4cb7899f",
   "metadata": {},
   "outputs": [],
   "source": [
    "import tensorflow as tf\n",
    "print(tf.__version__)"
   ]
  },
  {
   "cell_type": "code",
   "execution_count": null,
   "id": "87d0ee8e",
   "metadata": {},
   "outputs": [],
   "source": [
    "# Install tensorflow_datasets.\n",
    "!pip install tensorflow_datasets"
   ]
  },
  {
   "cell_type": "code",
   "execution_count": null,
   "id": "f1621aa9",
   "metadata": {},
   "outputs": [],
   "source": [
    "# Load MNIST datasets.\n",
    "import tensorflow_datasets as tfds"
   ]
  },
  {
   "cell_type": "code",
   "execution_count": null,
   "id": "c5c93f7a",
   "metadata": {},
   "outputs": [],
   "source": [
    "# Set hyperparameters: BUFFER_SIZE to shuffle data, BATCH_SIZE that is mini-batch size, and the number of training epochs.\n",
    "import numpy as np\n",
    "BUFFER_SIZE = 10000\n",
    "BATCH_SIZE = 64\n",
    "NUM_EPOCHS = 20"
   ]
  },
  {
   "cell_type": "code",
   "execution_count": null,
   "id": "1bc6c4f2",
   "metadata": {},
   "outputs": [],
   "source": [
    "# Define the number of times to repeat per epoch.\n",
    "steps_per_epoch = np.ceil(60000 / BATCH_SIZE)"
   ]
  },
  {
   "cell_type": "code",
   "execution_count": null,
   "id": "877e9ef5",
   "metadata": {},
   "outputs": [],
   "source": [
    "# Define a function that preprocesses the input image and label.\n",
    "def preprocess(item):\n",
    "    image = item['image']\n",
    "    label = item['label']\n",
    "    image = tf.image.convert_image_dtype(image, tf.float32) # Convert to a tf.float32 type as it was originally a 'unit8' type with a range of [0, 255] \n",
    "    return {'image-pixels' : image}, label[... , tf.newaxis]"
   ]
  },
  {
   "cell_type": "code",
   "execution_count": null,
   "id": "f07363f4",
   "metadata": {},
   "outputs": [],
   "source": [
    "# Define two input functions for training and evaluation.\n",
    "def train_input_fn():\n",
    "    datasets = tfds.load(name='mnist', )\n",
    "    mnist_train = datasets['train']\n",
    "\n",
    "    dataset = mnist_train.map(preprocess)\n",
    "    dataset = dataset.shuffle(BUFFER_SIZE)\n",
    "    dataset = dataset.batch(BATCH_SIZE)\n",
    "    return dataset.repeat()"
   ]
  },
  {
   "cell_type": "code",
   "execution_count": null,
   "id": "8c49ee24",
   "metadata": {},
   "outputs": [],
   "source": [
    "def eval_input_fn():\n",
    "    datasets = tfds.load(name='mnist')\n",
    "    mnist_test = datasets['test']\n",
    "    dataset = mnist_test.map(preprocess).batch(BATCH_SIZE)\n",
    "    return dataset"
   ]
  },
  {
   "cell_type": "code",
   "execution_count": null,
   "id": "180af131",
   "metadata": {},
   "outputs": [],
   "source": [
    "# Define a feature column.\n",
    "image_feature_column = tf.feature_column.numeric_column(key='image-pixels', shape=(28*28)) # Make it as a feature column of 784"
   ]
  },
  {
   "cell_type": "code",
   "execution_count": null,
   "id": "79e0becb",
   "metadata": {},
   "outputs": [],
   "source": [
    "# After defining an estimator object\n",
    "dnn_classifier = tf.estimator.DNNClassifier(\n",
    "    feature_columns=[image_feature_column],\n",
    "    hidden_units=[32, 16],\n",
    "    n_classes=10)"
   ]
  },
  {
   "cell_type": "code",
   "execution_count": null,
   "id": "2bed76f8",
   "metadata": {},
   "outputs": [],
   "source": [
    "# Training, evaluation, prediction\n",
    "dnn_classifier.train(\n",
    "    input_fn=train_input_fn,\n",
    "    steps=NUM_EPOCHS * steps_per_epoch)\n",
    "\n",
    "eval_result = dnn_classifier.evaluate(\n",
    "    input_fn=eval_input_fn)\n",
    "\n",
    "print(eval_result)"
   ]
  },
  {
   "cell_type": "code",
   "execution_count": null,
   "id": "7337a78b",
   "metadata": {},
   "outputs": [],
   "source": []
  }
 ],
 "metadata": {
  "kernelspec": {
   "display_name": "Python 3 (ipykernel)",
   "language": "python",
   "name": "python3"
  },
  "language_info": {
   "codemirror_mode": {
    "name": "ipython",
    "version": 3
   },
   "file_extension": ".py",
   "mimetype": "text/x-python",
   "name": "python",
   "nbconvert_exporter": "python",
   "pygments_lexer": "ipython3",
   "version": "3.9.13"
  }
 },
 "nbformat": 4,
 "nbformat_minor": 5
}
