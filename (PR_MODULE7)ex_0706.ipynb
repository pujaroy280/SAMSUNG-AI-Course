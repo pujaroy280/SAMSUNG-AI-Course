{
  "cells": [
    {
      "cell_type": "markdown",
      "metadata": {
        "id": "5nZRkjsR0k2R"
      },
      "source": [
        "## Coding Exercise #0706"
      ]
    },
    {
      "cell_type": "code",
      "execution_count": 1,
      "metadata": {
        "id": "kWScM0vd0k2U"
      },
      "outputs": [],
      "source": [
        "# Install nltk once.\n",
        "# !pip install nltk"
      ]
    },
    {
      "cell_type": "code",
      "execution_count": 2,
      "metadata": {
        "id": "nznTWYxT0k2W",
        "outputId": "8bc122bc-4f1b-473c-eeaf-de4aede875e5",
        "colab": {
          "base_uri": "https://localhost:8080/"
        }
      },
      "outputs": [
        {
          "output_type": "stream",
          "name": "stderr",
          "text": [
            "[nltk_data] Downloading package punkt to /root/nltk_data...\n",
            "[nltk_data]   Unzipping tokenizers/punkt.zip.\n",
            "[nltk_data] Downloading package stopwords to /root/nltk_data...\n",
            "[nltk_data]   Unzipping corpora/stopwords.zip.\n"
          ]
        },
        {
          "output_type": "execute_result",
          "data": {
            "text/plain": [
              "True"
            ]
          },
          "metadata": {},
          "execution_count": 2
        }
      ],
      "source": [
        "import nltk\n",
        "nltk.download('punkt')\n",
        "nltk.download('stopwords')"
      ]
    },
    {
      "cell_type": "code",
      "execution_count": 3,
      "metadata": {
        "id": "q_kSG-Lc0k2W"
      },
      "outputs": [],
      "source": [
        "# You should download the NLTK data once.\n",
        "# It can be a bit time consuming.\n",
        "# nltk.download()"
      ]
    },
    {
      "cell_type": "markdown",
      "metadata": {
        "id": "OyewL4yQ0k2W"
      },
      "source": [
        "### 1. About the NLTK library:"
      ]
    },
    {
      "cell_type": "code",
      "execution_count": 4,
      "metadata": {
        "id": "_9yotMjj0k2W"
      },
      "outputs": [],
      "source": [
        "#\n",
        "#  From the US president B. Obama's Nov-4th-2008 speech. \n",
        "#\n",
        "\n",
        "paragraph = \"\"\"If there is anyone out there who still doubts that America is a place where all things are possible; who still wonders if the dream of our founders is alive in our time; who still questions the power of our democracy: Tonight is your answer.\n",
        "It's the answer told by lines that stretched around schools and churches in numbers this nation has never seen; by people who waited three hours and four hours, many for the very first time in their lives, because they believed that this time must be different; that their voices could be that difference. \n",
        "It's the answer spoken by young and old, rich and poor, Democrat and Republican, black, white, Hispanic, Asian, Native American, gay, straight, disabled and not disabled -- Americans who sent a message to the world that we have never been just a collection of individuals or a collection of Red States and Blue States: we are, and always will be, the United States of America!\n",
        "It's the answer that -- that led those who have been told for so long by so many to be cynical, and fearful, and doubtful about what we can achieve to put their hands on the arc of history and bend it once more toward the hope of a better day.\n",
        "It's been a long time coming, but tonight, because of what we did on this day, in this election, at this defining moment, change has come to America.\n",
        "A little bit earlier this evening, I received an extraordinarily gracious call from Senator McCain. Senator McCain fought long and hard in this campaign, and he's fought even longer and harder for the country that he loves. He has endured sacrifices for America that most of us cannot begin to imagine. We are better off for the service rendered by this brave and selfless leader. I congratulate him; I congratulate Governor Palin for all that they've achieved, and I look forward to working with them to renew this nation's promise in the months ahead.\n",
        "I want to thank my partner in this journey, a man who campaigned from his heart and spoke for the men and women he grew up with on the streets of Scranton and rode with on the train home to Delaware, the Vice President-elect of the United States, Joe Biden. \"\"\"                  "
      ]
    },
    {
      "cell_type": "markdown",
      "metadata": {
        "id": "ZuBKadqv0k2X"
      },
      "source": [
        "#### 1.1. Tokenization: "
      ]
    },
    {
      "cell_type": "code",
      "execution_count": 5,
      "metadata": {
        "id": "mZLrXmDa0k2X",
        "outputId": "972304e0-a969-4e20-ec74-4635acf965ee",
        "colab": {
          "base_uri": "https://localhost:8080/"
        }
      },
      "outputs": [
        {
          "output_type": "stream",
          "name": "stdout",
          "text": [
            "['If there is anyone out there who still doubts that America is a place where all things are possible; who still wonders if the dream of our founders is alive in our time; who still questions the power of our democracy: Tonight is your answer.', \"It's the answer told by lines that stretched around schools and churches in numbers this nation has never seen; by people who waited three hours and four hours, many for the very first time in their lives, because they believed that this time must be different; that their voices could be that difference.\", \"It's the answer spoken by young and old, rich and poor, Democrat and Republican, black, white, Hispanic, Asian, Native American, gay, straight, disabled and not disabled -- Americans who sent a message to the world that we have never been just a collection of individuals or a collection of Red States and Blue States: we are, and always will be, the United States of America!\", \"It's the answer that -- that led those who have been told for so long by so many to be cynical, and fearful, and doubtful about what we can achieve to put their hands on the arc of history and bend it once more toward the hope of a better day.\", \"It's been a long time coming, but tonight, because of what we did on this day, in this election, at this defining moment, change has come to America.\", 'A little bit earlier this evening, I received an extraordinarily gracious call from Senator McCain.', \"Senator McCain fought long and hard in this campaign, and he's fought even longer and harder for the country that he loves.\", 'He has endured sacrifices for America that most of us cannot begin to imagine.', 'We are better off for the service rendered by this brave and selfless leader.', \"I congratulate him; I congratulate Governor Palin for all that they've achieved, and I look forward to working with them to renew this nation's promise in the months ahead.\", 'I want to thank my partner in this journey, a man who campaigned from his heart and spoke for the men and women he grew up with on the streets of Scranton and rode with on the train home to Delaware, the Vice President-elect of the United States, Joe Biden.']\n"
          ]
        }
      ],
      "source": [
        "# Tokenize into sentences.\n",
        "sentences = nltk.sent_tokenize(paragraph)\n",
        "print(sentences)"
      ]
    },
    {
      "cell_type": "code",
      "execution_count": 6,
      "metadata": {
        "id": "QMh2kt2P0k2Y",
        "outputId": "489f573b-9850-4d72-c019-a318114c5575",
        "colab": {
          "base_uri": "https://localhost:8080/"
        }
      },
      "outputs": [
        {
          "output_type": "stream",
          "name": "stdout",
          "text": [
            "['If', 'there', 'is', 'anyone', 'out', 'there', 'who', 'still', 'doubts', 'that', 'America', 'is', 'a', 'place', 'where', 'all', 'things', 'are', 'possible', ';', 'who', 'still', 'wonders', 'if', 'the', 'dream', 'of', 'our', 'founders', 'is', 'alive', 'in', 'our', 'time', ';', 'who', 'still', 'questions', 'the', 'power', 'of', 'our', 'democracy', ':', 'Tonight', 'is', 'your', 'answer', '.', 'It', \"'s\", 'the', 'answer', 'told', 'by', 'lines', 'that', 'stretched', 'around', 'schools', 'and', 'churches', 'in', 'numbers', 'this', 'nation', 'has', 'never', 'seen', ';', 'by', 'people', 'who', 'waited', 'three', 'hours', 'and', 'four', 'hours', ',', 'many', 'for', 'the', 'very', 'first', 'time', 'in', 'their', 'lives', ',', 'because', 'they', 'believed', 'that', 'this', 'time', 'must', 'be', 'different', ';', 'that', 'their', 'voices', 'could', 'be', 'that', 'difference', '.', 'It', \"'s\", 'the', 'answer', 'spoken', 'by', 'young', 'and', 'old', ',', 'rich', 'and', 'poor', ',', 'Democrat', 'and', 'Republican', ',', 'black', ',', 'white', ',', 'Hispanic', ',', 'Asian', ',', 'Native', 'American', ',', 'gay', ',', 'straight', ',', 'disabled', 'and', 'not', 'disabled', '--', 'Americans', 'who', 'sent', 'a', 'message', 'to', 'the', 'world', 'that', 'we', 'have', 'never', 'been', 'just', 'a', 'collection', 'of', 'individuals', 'or', 'a', 'collection', 'of', 'Red', 'States', 'and', 'Blue', 'States', ':', 'we', 'are', ',', 'and', 'always', 'will', 'be', ',', 'the', 'United', 'States', 'of', 'America', '!', 'It', \"'s\", 'the', 'answer', 'that', '--', 'that', 'led', 'those', 'who', 'have', 'been', 'told', 'for', 'so', 'long', 'by', 'so', 'many', 'to', 'be', 'cynical', ',', 'and', 'fearful', ',', 'and', 'doubtful', 'about', 'what', 'we', 'can', 'achieve', 'to', 'put', 'their', 'hands', 'on', 'the', 'arc', 'of', 'history', 'and', 'bend', 'it', 'once', 'more', 'toward', 'the', 'hope', 'of', 'a', 'better', 'day', '.', 'It', \"'s\", 'been', 'a', 'long', 'time', 'coming', ',', 'but', 'tonight', ',', 'because', 'of', 'what', 'we', 'did', 'on', 'this', 'day', ',', 'in', 'this', 'election', ',', 'at', 'this', 'defining', 'moment', ',', 'change', 'has', 'come', 'to', 'America', '.', 'A', 'little', 'bit', 'earlier', 'this', 'evening', ',', 'I', 'received', 'an', 'extraordinarily', 'gracious', 'call', 'from', 'Senator', 'McCain', '.', 'Senator', 'McCain', 'fought', 'long', 'and', 'hard', 'in', 'this', 'campaign', ',', 'and', 'he', \"'s\", 'fought', 'even', 'longer', 'and', 'harder', 'for', 'the', 'country', 'that', 'he', 'loves', '.', 'He', 'has', 'endured', 'sacrifices', 'for', 'America', 'that', 'most', 'of', 'us', 'can', 'not', 'begin', 'to', 'imagine', '.', 'We', 'are', 'better', 'off', 'for', 'the', 'service', 'rendered', 'by', 'this', 'brave', 'and', 'selfless', 'leader', '.', 'I', 'congratulate', 'him', ';', 'I', 'congratulate', 'Governor', 'Palin', 'for', 'all', 'that', 'they', \"'ve\", 'achieved', ',', 'and', 'I', 'look', 'forward', 'to', 'working', 'with', 'them', 'to', 'renew', 'this', 'nation', \"'s\", 'promise', 'in', 'the', 'months', 'ahead', '.', 'I', 'want', 'to', 'thank', 'my', 'partner', 'in', 'this', 'journey', ',', 'a', 'man', 'who', 'campaigned', 'from', 'his', 'heart', 'and', 'spoke', 'for', 'the', 'men', 'and', 'women', 'he', 'grew', 'up', 'with', 'on', 'the', 'streets', 'of', 'Scranton', 'and', 'rode', 'with', 'on', 'the', 'train', 'home', 'to', 'Delaware', ',', 'the', 'Vice', 'President-elect', 'of', 'the', 'United', 'States', ',', 'Joe', 'Biden', '.']\n"
          ]
        }
      ],
      "source": [
        "# Tokenize into words.\n",
        "words = nltk.word_tokenize(paragraph)\n",
        "print(words)"
      ]
    },
    {
      "cell_type": "markdown",
      "metadata": {
        "id": "f3qh0WtF0k2Y"
      },
      "source": [
        "#### 1.2. Stemming:"
      ]
    },
    {
      "cell_type": "code",
      "execution_count": 7,
      "metadata": {
        "id": "qgc0GVKM0k2Y"
      },
      "outputs": [],
      "source": [
        "from nltk.stem import PorterStemmer, LancasterStemmer, SnowballStemmer\n",
        "# Pick one of the following stemmers.\n",
        "#stemmer = SnowballStemmer('english')\n",
        "#stemmer = LancasterStemmer()\n",
        "stemmer = PorterStemmer()"
      ]
    },
    {
      "cell_type": "code",
      "execution_count": 8,
      "metadata": {
        "id": "mY5fSKZA0k2Y"
      },
      "outputs": [],
      "source": [
        "# Stemming.\n",
        "for i in range(len(sentences)):\n",
        "    words = nltk.word_tokenize(sentences[i])               # Tokenize into words.\n",
        "    words = [stemmer.stem(x) for x in words]               # Stemming.\n",
        "    sentences[i] = ' '.join(words)                         # Rejoin the words as a sentence."
      ]
    },
    {
      "cell_type": "code",
      "execution_count": 9,
      "metadata": {
        "id": "EhfSpp0H0k2Z",
        "outputId": "c825dc7e-e239-497d-ece8-23193de9cdbd",
        "colab": {
          "base_uri": "https://localhost:8080/"
        }
      },
      "outputs": [
        {
          "output_type": "stream",
          "name": "stdout",
          "text": [
            "['if there is anyon out there who still doubt that america is a place where all thing are possibl ; who still wonder if the dream of our founder is aliv in our time ; who still question the power of our democraci : tonight is your answer .', \"it 's the answer told by line that stretch around school and church in number thi nation ha never seen ; by peopl who wait three hour and four hour , mani for the veri first time in their live , becaus they believ that thi time must be differ ; that their voic could be that differ .\", \"it 's the answer spoken by young and old , rich and poor , democrat and republican , black , white , hispan , asian , nativ american , gay , straight , disabl and not disabl -- american who sent a messag to the world that we have never been just a collect of individu or a collect of red state and blue state : we are , and alway will be , the unit state of america !\", \"it 's the answer that -- that led those who have been told for so long by so mani to be cynic , and fear , and doubt about what we can achiev to put their hand on the arc of histori and bend it onc more toward the hope of a better day .\", \"it 's been a long time come , but tonight , becaus of what we did on thi day , in thi elect , at thi defin moment , chang ha come to america .\", 'a littl bit earlier thi even , i receiv an extraordinarili graciou call from senat mccain .', \"senat mccain fought long and hard in thi campaign , and he 's fought even longer and harder for the countri that he love .\", 'he ha endur sacrific for america that most of us can not begin to imagin .', 'we are better off for the servic render by thi brave and selfless leader .', \"i congratul him ; i congratul governor palin for all that they 've achiev , and i look forward to work with them to renew thi nation 's promis in the month ahead .\", 'i want to thank my partner in thi journey , a man who campaign from hi heart and spoke for the men and women he grew up with on the street of scranton and rode with on the train home to delawar , the vice president-elect of the unit state , joe biden .']\n"
          ]
        }
      ],
      "source": [
        "print(sentences)"
      ]
    },
    {
      "cell_type": "code",
      "execution_count": 10,
      "metadata": {
        "id": "-UUNQByz0k2Z",
        "outputId": "86e8a3b0-3c65-435f-e36f-45a40b6049ee",
        "colab": {
          "base_uri": "https://localhost:8080/",
          "height": 36
        }
      },
      "outputs": [
        {
          "output_type": "execute_result",
          "data": {
            "text/plain": [
              "'work'"
            ],
            "application/vnd.google.colaboratory.intrinsic+json": {
              "type": "string"
            }
          },
          "metadata": {},
          "execution_count": 10
        }
      ],
      "source": [
        "stemmer.stem(\"worked\")"
      ]
    },
    {
      "cell_type": "code",
      "execution_count": 11,
      "metadata": {
        "id": "-WQEx7SF0k2Z",
        "outputId": "05a95a29-053e-465a-903e-8b6fbbed33c6",
        "colab": {
          "base_uri": "https://localhost:8080/",
          "height": 36
        }
      },
      "outputs": [
        {
          "output_type": "execute_result",
          "data": {
            "text/plain": [
              "'cri'"
            ],
            "application/vnd.google.colaboratory.intrinsic+json": {
              "type": "string"
            }
          },
          "metadata": {},
          "execution_count": 11
        }
      ],
      "source": [
        "stemmer.stem(\"cried\")"
      ]
    },
    {
      "cell_type": "code",
      "execution_count": 12,
      "metadata": {
        "id": "vZL93wnq0k2Z",
        "outputId": "15918bc9-b4bf-4a19-bc73-919ff309c753",
        "colab": {
          "base_uri": "https://localhost:8080/",
          "height": 36
        }
      },
      "outputs": [
        {
          "output_type": "execute_result",
          "data": {
            "text/plain": [
              "'remembr'"
            ],
            "application/vnd.google.colaboratory.intrinsic+json": {
              "type": "string"
            }
          },
          "metadata": {},
          "execution_count": 12
        }
      ],
      "source": [
        "stemmer.stem(\"remembrance\")"
      ]
    },
    {
      "cell_type": "code",
      "execution_count": 13,
      "metadata": {
        "id": "3l43hTkc0k2a",
        "outputId": "2fe935cf-30a9-490b-c68f-529683f11a37",
        "colab": {
          "base_uri": "https://localhost:8080/",
          "height": 36
        }
      },
      "outputs": [
        {
          "output_type": "execute_result",
          "data": {
            "text/plain": [
              "'happili'"
            ],
            "application/vnd.google.colaboratory.intrinsic+json": {
              "type": "string"
            }
          },
          "metadata": {},
          "execution_count": 13
        }
      ],
      "source": [
        "stemmer.stem(\"happily\")"
      ]
    },
    {
      "cell_type": "markdown",
      "metadata": {
        "id": "xCvNT1fU0k2a"
      },
      "source": [
        "#### 1.3. Lemmatization:"
      ]
    },
    {
      "cell_type": "code",
      "execution_count": 14,
      "metadata": {
        "id": "_MPNDR0G0k2a"
      },
      "outputs": [],
      "source": [
        "from nltk.stem import WordNetLemmatizer\n",
        "from nltk.corpus import wordnet\n",
        "lemmatizer = WordNetLemmatizer()"
      ]
    },
    {
      "cell_type": "code",
      "execution_count": 15,
      "metadata": {
        "id": "2cFxSr5g0k2a",
        "outputId": "d7d460b4-5949-4688-ebd9-5e8fe36c6f8d",
        "colab": {
          "base_uri": "https://localhost:8080/"
        }
      },
      "outputs": [
        {
          "output_type": "stream",
          "name": "stderr",
          "text": [
            "[nltk_data] Downloading package wordnet to /root/nltk_data...\n",
            "[nltk_data] Downloading package omw-1.4 to /root/nltk_data...\n"
          ]
        },
        {
          "output_type": "execute_result",
          "data": {
            "text/plain": [
              "True"
            ]
          },
          "metadata": {},
          "execution_count": 15
        }
      ],
      "source": [
        "# Reset to the original sentences.\n",
        "sentences = nltk.sent_tokenize(paragraph)\n",
        "\n",
        "nltk.download('wordnet')\n",
        "nltk.download('omw-1.4')"
      ]
    },
    {
      "cell_type": "code",
      "execution_count": 16,
      "metadata": {
        "id": "YCJ-ix-Q0k2a"
      },
      "outputs": [],
      "source": [
        "# Lemmatization.\n",
        "for i in range(len(sentences)):\n",
        "    words = nltk.word_tokenize(sentences[i])              # Tokenize into words.\n",
        "    words = [lemmatizer.lemmatize(x) for x in words]      # Lemmatization. \n",
        "    sentences[i] = ' '.join(words)                        # Rejoin the words as a sentence."
      ]
    },
    {
      "cell_type": "code",
      "execution_count": 17,
      "metadata": {
        "id": "y2lkbupb0k2b",
        "outputId": "a52d0def-0a84-4126-fbe7-d07a8b931990",
        "colab": {
          "base_uri": "https://localhost:8080/"
        }
      },
      "outputs": [
        {
          "output_type": "stream",
          "name": "stdout",
          "text": [
            "['If there is anyone out there who still doubt that America is a place where all thing are possible ; who still wonder if the dream of our founder is alive in our time ; who still question the power of our democracy : Tonight is your answer .', \"It 's the answer told by line that stretched around school and church in number this nation ha never seen ; by people who waited three hour and four hour , many for the very first time in their life , because they believed that this time must be different ; that their voice could be that difference .\", \"It 's the answer spoken by young and old , rich and poor , Democrat and Republican , black , white , Hispanic , Asian , Native American , gay , straight , disabled and not disabled -- Americans who sent a message to the world that we have never been just a collection of individual or a collection of Red States and Blue States : we are , and always will be , the United States of America !\", \"It 's the answer that -- that led those who have been told for so long by so many to be cynical , and fearful , and doubtful about what we can achieve to put their hand on the arc of history and bend it once more toward the hope of a better day .\", \"It 's been a long time coming , but tonight , because of what we did on this day , in this election , at this defining moment , change ha come to America .\", 'A little bit earlier this evening , I received an extraordinarily gracious call from Senator McCain .', \"Senator McCain fought long and hard in this campaign , and he 's fought even longer and harder for the country that he love .\", 'He ha endured sacrifice for America that most of u can not begin to imagine .', 'We are better off for the service rendered by this brave and selfless leader .', \"I congratulate him ; I congratulate Governor Palin for all that they 've achieved , and I look forward to working with them to renew this nation 's promise in the month ahead .\", 'I want to thank my partner in this journey , a man who campaigned from his heart and spoke for the men and woman he grew up with on the street of Scranton and rode with on the train home to Delaware , the Vice President-elect of the United States , Joe Biden .']\n"
          ]
        }
      ],
      "source": [
        "print(sentences)"
      ]
    },
    {
      "cell_type": "markdown",
      "metadata": {
        "id": "xKTvvjPY0k2b"
      },
      "source": [
        "Some more examples with the POS tags specified."
      ]
    },
    {
      "cell_type": "code",
      "execution_count": 18,
      "metadata": {
        "id": "SCCZu7090k2b",
        "outputId": "bdca3d1e-f211-4331-9e5d-9d24d7262f3a",
        "colab": {
          "base_uri": "https://localhost:8080/",
          "height": 36
        }
      },
      "outputs": [
        {
          "output_type": "execute_result",
          "data": {
            "text/plain": [
              "'dog'"
            ],
            "application/vnd.google.colaboratory.intrinsic+json": {
              "type": "string"
            }
          },
          "metadata": {},
          "execution_count": 18
        }
      ],
      "source": [
        "lemmatizer.lemmatize(\"dogs\",wordnet.NOUN)    "
      ]
    },
    {
      "cell_type": "code",
      "execution_count": 19,
      "metadata": {
        "id": "pxVtuaYb0k2b",
        "outputId": "157d27da-1cca-4ced-b3c5-58466d20e86f",
        "colab": {
          "base_uri": "https://localhost:8080/",
          "height": 36
        }
      },
      "outputs": [
        {
          "output_type": "execute_result",
          "data": {
            "text/plain": [
              "'wolf'"
            ],
            "application/vnd.google.colaboratory.intrinsic+json": {
              "type": "string"
            }
          },
          "metadata": {},
          "execution_count": 19
        }
      ],
      "source": [
        "lemmatizer.lemmatize(\"wolves\", wordnet.NOUN)"
      ]
    },
    {
      "cell_type": "code",
      "execution_count": 20,
      "metadata": {
        "id": "CeSV5KAK0k2b",
        "outputId": "cb51b2ed-2066-4d6c-de5f-de6eefe363f4",
        "colab": {
          "base_uri": "https://localhost:8080/",
          "height": 36
        }
      },
      "outputs": [
        {
          "output_type": "execute_result",
          "data": {
            "text/plain": [
              "'have'"
            ],
            "application/vnd.google.colaboratory.intrinsic+json": {
              "type": "string"
            }
          },
          "metadata": {},
          "execution_count": 20
        }
      ],
      "source": [
        "lemmatizer.lemmatize(\"has\",wordnet.VERB)"
      ]
    },
    {
      "cell_type": "code",
      "execution_count": 21,
      "metadata": {
        "id": "AunWqQPQ0k2b",
        "outputId": "985cf36e-f653-45b5-9c7e-c6a8140185e7",
        "colab": {
          "base_uri": "https://localhost:8080/",
          "height": 36
        }
      },
      "outputs": [
        {
          "output_type": "execute_result",
          "data": {
            "text/plain": [
              "'helpful'"
            ],
            "application/vnd.google.colaboratory.intrinsic+json": {
              "type": "string"
            }
          },
          "metadata": {},
          "execution_count": 21
        }
      ],
      "source": [
        "lemmatizer.lemmatize(\"helpful\", wordnet.ADJ)"
      ]
    },
    {
      "cell_type": "code",
      "execution_count": 22,
      "metadata": {
        "id": "8xRM7GgC0k2b",
        "outputId": "ce99efba-c57e-4468-c5f9-e990314b8f11",
        "colab": {
          "base_uri": "https://localhost:8080/",
          "height": 36
        }
      },
      "outputs": [
        {
          "output_type": "execute_result",
          "data": {
            "text/plain": [
              "'happily'"
            ],
            "application/vnd.google.colaboratory.intrinsic+json": {
              "type": "string"
            }
          },
          "metadata": {},
          "execution_count": 22
        }
      ],
      "source": [
        "lemmatizer.lemmatize(\"happily\", wordnet.ADV)"
      ]
    }
  ],
  "metadata": {
    "kernelspec": {
      "display_name": "Python 3 (ipykernel)",
      "language": "python",
      "name": "python3"
    },
    "language_info": {
      "codemirror_mode": {
        "name": "ipython",
        "version": 3
      },
      "file_extension": ".py",
      "mimetype": "text/x-python",
      "name": "python",
      "nbconvert_exporter": "python",
      "pygments_lexer": "ipython3",
      "version": "3.9.13"
    },
    "colab": {
      "provenance": []
    }
  },
  "nbformat": 4,
  "nbformat_minor": 0
}