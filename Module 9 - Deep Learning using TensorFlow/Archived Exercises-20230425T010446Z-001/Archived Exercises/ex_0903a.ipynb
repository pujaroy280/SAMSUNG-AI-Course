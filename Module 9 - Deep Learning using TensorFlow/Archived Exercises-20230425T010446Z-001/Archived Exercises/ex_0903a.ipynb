{
 "cells": [
  {
   "cell_type": "markdown",
   "metadata": {},
   "source": [
    "## Coding Exercise #0903a"
   ]
  },
  {
   "cell_type": "markdown",
   "metadata": {},
   "source": [
    "### 1. Dimensional reduction with PCA:"
   ]
  },
  {
   "cell_type": "code",
   "execution_count": null,
   "metadata": {},
   "outputs": [],
   "source": [
    "import tensorflow as tf\n",
    "tf.__version__"
   ]
  },
  {
   "cell_type": "code",
   "execution_count": null,
   "metadata": {},
   "outputs": [],
   "source": [
    "# Execute the codes in TensorFlow 2.0 without editing those in version 1.x (except for the contrib module).\n",
    "import tensorflow.compat.v1 as tf\n",
    "tf.disable_v2_behavior() "
   ]
  },
  {
   "cell_type": "code",
   "execution_count": null,
   "metadata": {},
   "outputs": [],
   "source": [
    "import numpy as np\n",
    "import pandas as pd\n",
    "import matplotlib.pyplot as plt\n",
    "from sklearn.datasets import load_iris\n",
    "from sklearn.decomposition import PCA\n",
    "from sklearn.preprocessing import MinMaxScaler\n",
    "%matplotlib inline"
   ]
  },
  {
   "cell_type": "markdown",
   "metadata": {},
   "source": [
    "#### 1.1. Read in data and preprocess:"
   ]
  },
  {
   "cell_type": "code",
   "execution_count": null,
   "metadata": {},
   "outputs": [],
   "source": [
    "# Read data.\n",
    "data_raw = load_iris()\n",
    "X = data_raw['data']\n",
    "y = data_raw['target'].reshape(-1,1)"
   ]
  },
  {
   "cell_type": "code",
   "execution_count": null,
   "metadata": {},
   "outputs": [],
   "source": [
    "# Scaling\n",
    "scaler = MinMaxScaler()                  \n",
    "X_scaled = scaler.fit_transform(X)        "
   ]
  },
  {
   "cell_type": "code",
   "execution_count": null,
   "metadata": {},
   "outputs": [],
   "source": [
    "# Convert into a DataFrame and view.\n",
    "header = ['SepalLength','SepalWidth','PetalLength','PetalWidth']      # Column names\n",
    "df = pd.DataFrame(X_scaled,columns=header)\n",
    "df.head(3)"
   ]
  },
  {
   "cell_type": "markdown",
   "metadata": {},
   "source": [
    "#### 1.2. Display the PCA result:"
   ]
  },
  {
   "cell_type": "code",
   "execution_count": null,
   "metadata": {},
   "outputs": [],
   "source": [
    "# Reduce to 2 dimension.\n",
    "pca = PCA(n_components = 2)\n",
    "X_pca = pca.fit_transform(X_scaled) "
   ]
  },
  {
   "cell_type": "code",
   "execution_count": null,
   "metadata": {},
   "outputs": [],
   "source": [
    "# Convert the integer labels into color names.\n",
    "mycolor = []\n",
    "for i in y:\n",
    "    if i == 0:\n",
    "        mycolor.append('red')\n",
    "    elif i == 1:\n",
    "        mycolor.append('green')\n",
    "    else:\n",
    "        mycolor.append('blue') "
   ]
  },
  {
   "cell_type": "code",
   "execution_count": null,
   "metadata": {},
   "outputs": [],
   "source": [
    "# Visualize.\n",
    "plt.scatter(X_pca[:,0],X_pca[:,1],marker=\"o\",alpha=0.7, s=10, c=mycolor)\n",
    "plt.show()"
   ]
  },
  {
   "cell_type": "markdown",
   "metadata": {},
   "source": [
    "### 2. Dimensional reduction with AutoEncoder:"
   ]
  },
  {
   "cell_type": "markdown",
   "metadata": {},
   "source": [
    "#### 2.1. Define an AutoEncoder model:"
   ]
  },
  {
   "cell_type": "code",
   "execution_count": null,
   "metadata": {},
   "outputs": [],
   "source": [
    "# Hyperparameters definition\n",
    "n_input = 4             # Input layers has as many nodes as the number of variables.\n",
    "n_hidden = 2            # The number of nodes in the hidden layer = 2 <= my target. \n",
    "n_output = n_input      # The output should have the same number of nodes as the input. \n",
    "learn_rate = 0.0001\n",
    "n_epochs = 10001"
   ]
  },
  {
   "cell_type": "code",
   "execution_count": null,
   "metadata": {},
   "outputs": [],
   "source": [
    "# Variables definition\n",
    "initializer = tf.variance_scaling_initializer()\n",
    "W1 = tf.Variable(initializer([n_input, n_hidden]), dtype=tf.float32)\n",
    "W2 = tf.Variable(initializer([n_hidden, n_output]), dtype=tf.float32)\n",
    "b1 = tf.Variable(tf.zeros(n_hidden))\n",
    "b2 = tf.Variable(tf.zeros(n_output))"
   ]
  },
  {
   "cell_type": "code",
   "execution_count": null,
   "metadata": {},
   "outputs": [],
   "source": [
    "# Placeholder definition\n",
    "X_ph = tf.placeholder(tf.float32, shape=[None, n_input])"
   ]
  },
  {
   "cell_type": "code",
   "execution_count": null,
   "metadata": {},
   "outputs": [],
   "source": [
    "# AutoEncoder model definition\n",
    "hidden_layer = tf.matmul(X_ph, W1) + b1                  # No activation.\n",
    "y_model = tf.matmul(hidden_layer, W2) + b2"
   ]
  },
  {
   "cell_type": "code",
   "execution_count": null,
   "metadata": {},
   "outputs": [],
   "source": [
    "loss = tf.reduce_mean(tf.square(X_ph- y_model))         # 'X' takes the place of 'y'."
   ]
  },
  {
   "cell_type": "code",
   "execution_count": null,
   "metadata": {},
   "outputs": [],
   "source": [
    "optimizer = tf.train.AdamOptimizer(learning_rate = learn_rate) "
   ]
  },
  {
   "cell_type": "code",
   "execution_count": null,
   "metadata": {},
   "outputs": [],
   "source": [
    "train = optimizer.minimize(loss)"
   ]
  },
  {
   "cell_type": "code",
   "execution_count": null,
   "metadata": {},
   "outputs": [],
   "source": [
    "init = tf.global_variables_initializer()"
   ]
  },
  {
   "cell_type": "markdown",
   "metadata": {},
   "source": [
    "#### 2.2. AutoEncoder training:"
   ]
  },
  {
   "cell_type": "code",
   "execution_count": null,
   "metadata": {},
   "outputs": [],
   "source": [
    "with tf.Session() as sess:\n",
    "        sess.run(init)\n",
    "        for i in range(n_epochs):\n",
    "            my_feed = {X_ph:X_scaled}\n",
    "            sess.run(train, feed_dict = my_feed)\n",
    "            if i % 1000 == 0: \n",
    "                mse = sess.run(loss, feed_dict = my_feed)\n",
    "                print(\"Step : {}    ,    MSE : {}\".format(i, mse))\n",
    "        X_auto = sess.run(hidden_layer, feed_dict = my_feed)       # Get the reduced dimensional representation from the hidden layer!!!"
   ]
  },
  {
   "cell_type": "markdown",
   "metadata": {},
   "source": [
    "#### 2.3. Compare the results of PCA vs AutoEncoder:"
   ]
  },
  {
   "cell_type": "code",
   "execution_count": null,
   "metadata": {},
   "outputs": [],
   "source": [
    "fig=plt.figure(figsize=(10,5), dpi=80)       # figsize= (Width, Height). Set DPI.\n",
    "axes1 = fig.add_axes([0,0,0.4,1])            # Left, Bottom, Width, Height\n",
    "axes2 = fig.add_axes([0.5,0,0.4,1])          # Left, Bottom, Width, Height\n",
    "axes1.scatter(X_pca[:,0],X_pca[:,1],marker=\"o\",alpha=0.7, s=10, c=mycolor)  \n",
    "axes2.scatter(X_auto[:,0],X_auto[:,1],marker=\"o\",alpha=0.7, s=10, c=mycolor)  \n",
    "axes1.set_xlabel('X')\n",
    "axes1.set_ylabel('Y')\n",
    "axes1.set_title('PCA')\n",
    "axes2.set_xlabel('X')\n",
    "axes2.set_ylabel('Y')\n",
    "axes2.set_title('AutoEncoder')\n",
    "plt.show()"
   ]
  },
  {
   "cell_type": "code",
   "execution_count": null,
   "metadata": {},
   "outputs": [],
   "source": []
  }
 ],
 "metadata": {
  "kernelspec": {
   "display_name": "Python 3 (ipykernel)",
   "language": "python",
   "name": "python3"
  },
  "language_info": {
   "codemirror_mode": {
    "name": "ipython",
    "version": 3
   },
   "file_extension": ".py",
   "mimetype": "text/x-python",
   "name": "python",
   "nbconvert_exporter": "python",
   "pygments_lexer": "ipython3",
   "version": "3.9.13"
  }
 },
 "nbformat": 4,
 "nbformat_minor": 2
}
