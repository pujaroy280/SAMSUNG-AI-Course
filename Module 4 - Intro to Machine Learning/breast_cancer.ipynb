{
 "cells": [
  {
   "cell_type": "code",
   "execution_count": 3,
   "id": "36827f77-1da0-4ebb-bdf2-e1c91c8e268e",
   "metadata": {},
   "outputs": [
    {
     "name": "stdout",
     "output_type": "stream",
     "text": [
      "size y_test: 143\n",
      "unmatch size: 7\n",
      "matched size: 136\n",
      "unmatch rate: 0.04895104895104895\n",
      "match rate: 0.951048951048951\n"
     ]
    }
   ],
   "source": [
    "from sklearn.datasets import load_breast_cancer\n",
    "import pandas as pd\n",
    "from sklearn.model_selection import train_test_split\n",
    "from sklearn.tree import DecisionTreeClassifier\n",
    "\n",
    "data=load_breast_cancer()\n",
    "#pd.DataFrame(data['data'])\n",
    "#pd.DataFrame(data['target'])\n",
    "X_train, X_test, y_train, y_test = train_test_split(data.data, data.target, test_size=0.25, random_state=0)\n",
    "model = DecisionTreeClassifier(criterion='entropy')\n",
    "model.fit(X_train,y_train)\n",
    "y_pred=model.predict(X_test)\n",
    "pred_2d = y_pred.reshape(len(y_pred),1)\n",
    "df1=pd.DataFrame(pred_2d) \n",
    "y_test_2d=y_test.reshape(len(y_test),1)\n",
    "df1=pd.DataFrame(pred_2d)\n",
    "df2=pd.DataFrame(y_test_2d) \n",
    "df_concat=pd.concat([df1,df2],axis=1) \n",
    "df_concat.columns=['pred','real']\n",
    "df_size=df_concat[df_concat['pred']!=df_concat['real']]\n",
    "mf_size=df_concat[df_concat['pred']==df_concat['real']]\n",
    "y_len = len(y_test)\n",
    "u_size=len(df_size)\n",
    "m_size=len(mf_size)\n",
    "print(\"size y_test:\",y_len)\n",
    "print(\"unmatch size:\",u_size)\n",
    "print(\"matched size:\",m_size)\n",
    "print(\"unmatch rate:\",u_size/y_len)\n",
    "print(\"match rate:\",m_size/y_len)"
   ]
  },
  {
   "cell_type": "code",
   "execution_count": 4,
   "id": "8cc86257-3c09-4150-bcc1-73be0f876927",
   "metadata": {},
   "outputs": [
    {
     "name": "stdout",
     "output_type": "stream",
     "text": [
      "size y_test: 143\n",
      "unmatch size: 13\n",
      "matched size: 130\n",
      "unmatch rate: 0.09090909090909091\n",
      "match rate: 0.9090909090909091\n"
     ]
    }
   ],
   "source": [
    "from sklearn.datasets import load_breast_cancer\n",
    "import pandas as pd\n",
    "from sklearn.model_selection import train_test_split\n",
    "from sklearn.tree import DecisionTreeClassifier\n",
    "from sklearn.preprocessing import StandardScaler \n",
    "scaler=StandardScaler() \n",
    "\n",
    "data=load_breast_cancer()\n",
    "#pd.DataFrame(data['data'])\n",
    "#pd.DataFrame(data['target'])\n",
    "X_train, X_test, y_train, y_test = train_test_split(data.data, data.target, random_state=10)\n",
    "# scale X_train & X_test\n",
    "X_train = scaler.fit_transform(X_train)\n",
    "X_test = scaler.fit_transform(X_test)\n",
    "\n",
    "model = DecisionTreeClassifier(criterion='entropy')\n",
    "model.fit(X_train,y_train)\n",
    "y_pred=model.predict(X_test)\n",
    "pred_2d = y_pred.reshape(len(y_pred),1)\n",
    "df1=pd.DataFrame(pred_2d) \n",
    "y_test_2d=y_test.reshape(len(y_test),1)\n",
    "df1=pd.DataFrame(pred_2d)\n",
    "df2=pd.DataFrame(y_test_2d) \n",
    "df_concat=pd.concat([df1,df2],axis=1) \n",
    "df_concat.columns=['pred','real']\n",
    "df_size=df_concat[df_concat['pred']!=df_concat['real']]\n",
    "mf_size=df_concat[df_concat['pred']==df_concat['real']]\n",
    "y_len = len(y_test)\n",
    "u_size=len(df_size)\n",
    "m_size=len(mf_size)\n",
    "print(\"size y_test:\",y_len)\n",
    "print(\"unmatch size:\",u_size)\n",
    "print(\"matched size:\",m_size)\n",
    "print(\"unmatch rate:\",u_size/y_len)\n",
    "print(\"match rate:\",m_size/y_len)"
   ]
  },
  {
   "cell_type": "code",
   "execution_count": 5,
   "id": "15858a66-3ade-4efc-a865-4de9b38f2e1d",
   "metadata": {},
   "outputs": [
    {
     "name": "stdout",
     "output_type": "stream",
     "text": [
      "size y_test: 38\n",
      "unmatch size: 1\n",
      "matched size: 37\n",
      "unmatch rate: 0.02631578947368421\n",
      "match rate: 0.9736842105263158\n"
     ]
    }
   ],
   "source": [
    "from sklearn.datasets import load_iris\n",
    "import pandas as pd\n",
    "from sklearn.model_selection import train_test_split\n",
    "from sklearn.tree import DecisionTreeClassifier\n",
    "from sklearn.preprocessing import StandardScaler \n",
    "scaler=StandardScaler() \n",
    "\n",
    "data=load_iris()\n",
    "#pd.DataFrame(data['data'])\n",
    "#pd.DataFrame(data['target'])\n",
    "X_train, X_test, y_train, y_test = train_test_split(data.data, data.target, random_state=10)\n",
    "# scale X_train & X_test\n",
    "X_train = scaler.fit_transform(X_train)\n",
    "X_test = scaler.fit_transform(X_test)\n",
    "\n",
    "model = DecisionTreeClassifier(criterion='entropy')\n",
    "model.fit(X_train,y_train)\n",
    "y_pred=model.predict(X_test)\n",
    "pred_2d = y_pred.reshape(len(y_pred),1)\n",
    "df1=pd.DataFrame(pred_2d) \n",
    "y_test_2d=y_test.reshape(len(y_test),1)\n",
    "df1=pd.DataFrame(pred_2d)\n",
    "df2=pd.DataFrame(y_test_2d) \n",
    "df_concat=pd.concat([df1,df2],axis=1) \n",
    "df_concat.columns=['pred','real']\n",
    "df_size=df_concat[df_concat['pred']!=df_concat['real']]\n",
    "mf_size=df_concat[df_concat['pred']==df_concat['real']]\n",
    "y_len = len(y_test)\n",
    "u_size=len(df_size)\n",
    "m_size=len(mf_size)\n",
    "print(\"size y_test:\",y_len)\n",
    "print(\"unmatch size:\",u_size)\n",
    "print(\"matched size:\",m_size)\n",
    "print(\"unmatch rate:\",u_size/y_len)\n",
    "print(\"match rate:\",m_size/y_len)"
   ]
  }
 ],
 "metadata": {
  "kernelspec": {
   "display_name": "Python 3",
   "language": "python",
   "name": "python3"
  },
  "language_info": {
   "codemirror_mode": {
    "name": "ipython",
    "version": 3
   },
   "file_extension": ".py",
   "mimetype": "text/x-python",
   "name": "python",
   "nbconvert_exporter": "python",
   "pygments_lexer": "ipython3",
   "version": "3.8.8"
  }
 },
 "nbformat": 4,
 "nbformat_minor": 5
}
