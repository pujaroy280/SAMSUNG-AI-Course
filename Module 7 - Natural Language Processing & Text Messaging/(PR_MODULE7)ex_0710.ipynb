{
  "cells": [
    {
      "cell_type": "markdown",
      "metadata": {
        "id": "IVUake3m0orM"
      },
      "source": [
        "## Coding Excercise #0710"
      ]
    },
    {
      "cell_type": "code",
      "execution_count": 1,
      "metadata": {
        "id": "3ZlU87RD0orO",
        "outputId": "0fc3fcf8-9bf3-4c62-ecf5-e57bf2aa09b2",
        "colab": {
          "base_uri": "https://localhost:8080/"
        }
      },
      "outputs": [
        {
          "output_type": "stream",
          "name": "stderr",
          "text": [
            "[nltk_data] Downloading package punkt to /root/nltk_data...\n",
            "[nltk_data]   Unzipping tokenizers/punkt.zip.\n",
            "[nltk_data] Downloading package stopwords to /root/nltk_data...\n",
            "[nltk_data]   Unzipping corpora/stopwords.zip.\n"
          ]
        }
      ],
      "source": [
        "import nltk\n",
        "nltk.download('punkt')\n",
        "nltk.download('stopwords')\n",
        "import numpy as np\n",
        "from nltk.corpus import stopwords\n",
        "from sklearn.feature_extraction.text import TfidfVectorizer\n",
        "from sklearn.metrics import pairwise_distances"
      ]
    },
    {
      "cell_type": "markdown",
      "metadata": {
        "id": "CFl4TTrl0orP"
      },
      "source": [
        "### 1. TF IDF representation:"
      ]
    },
    {
      "cell_type": "markdown",
      "metadata": {
        "id": "Dyz8LdCF0orP"
      },
      "source": [
        "#### 1.1. Create a TF IDF matrix: "
      ]
    },
    {
      "cell_type": "code",
      "execution_count": 2,
      "metadata": {
        "id": "Vk8WAXQk0orQ"
      },
      "outputs": [],
      "source": [
        "# The data.\n",
        "my_docs = [\"The economic slowdown is becoming more severe\",\n",
        "           \"The movie was simply awesome\",\n",
        "           \"I like cooking my own food\",\n",
        "           \"Samsung is announcing a new technology\",\n",
        "           \"Machine Learning is an example of awesome technology\",\n",
        "           \"All of us were excited at the movie\",\n",
        "           \"We have to do more to reverse the economic slowdown\"]"
      ]
    },
    {
      "cell_type": "code",
      "execution_count": 3,
      "metadata": {
        "id": "ZxFpRc5T0orQ"
      },
      "outputs": [],
      "source": [
        "# A very simple pre-processing.\n",
        "my_docs = [x.lower() for x in my_docs]"
      ]
    },
    {
      "cell_type": "markdown",
      "metadata": {
        "id": "aVHffqo50orQ"
      },
      "source": [
        "TfidfVectorizer() arguments: <br>\n",
        "- *max_features* : maximum number of features (distict words). <br>\n",
        "- *min_df* : The minimum DF. Integer value means count and real number (0~1) means proportion. <br> \n",
        "- *max_df* : The maximum DF. Integer value means count and real number (0~1) means proportion. Helps to filter out the stop words. <br> "
      ]
    },
    {
      "cell_type": "code",
      "execution_count": 4,
      "metadata": {
        "id": "yFZZYGsl0orQ"
      },
      "outputs": [],
      "source": [
        "vectorizer = TfidfVectorizer(max_features = 10, min_df = 1, max_df = 3, stop_words = stopwords.words('english'))\n",
        "X = vectorizer.fit_transform(my_docs).toarray()               # Conversion to a dense matrix with toarray()."
      ]
    },
    {
      "cell_type": "code",
      "execution_count": 5,
      "metadata": {
        "id": "dougP1OX0orR",
        "outputId": "76a07b09-1ac3-4b5f-de8a-0e260373bf5c",
        "colab": {
          "base_uri": "https://localhost:8080/"
        }
      },
      "outputs": [
        {
          "output_type": "execute_result",
          "data": {
            "text/plain": [
              "(7, 10)"
            ]
          },
          "metadata": {},
          "execution_count": 5
        }
      ],
      "source": [
        "# Size of the X matrix (m x n).\n",
        "X.shape"
      ]
    },
    {
      "cell_type": "code",
      "execution_count": 6,
      "metadata": {
        "id": "aYwiBkkn0orR",
        "outputId": "a8357817-f496-4512-f699-2cc51c55f26a",
        "colab": {
          "base_uri": "https://localhost:8080/"
        }
      },
      "outputs": [
        {
          "output_type": "stream",
          "name": "stdout",
          "text": [
            "['announcing' 'awesome' 'economic' 'movie' 'reverse' 'samsung' 'severe'\n",
            " 'simply' 'slowdown' 'technology']\n"
          ]
        }
      ],
      "source": [
        "# Output the features.\n",
        "print(vectorizer.get_feature_names_out())"
      ]
    },
    {
      "cell_type": "code",
      "execution_count": 7,
      "metadata": {
        "id": "4nsDR0NI0orS",
        "outputId": "656f6dc6-3005-4bad-9c9b-259a2c260e6c",
        "colab": {
          "base_uri": "https://localhost:8080/"
        }
      },
      "outputs": [
        {
          "output_type": "stream",
          "name": "stdout",
          "text": [
            "[0.         0.         0.53828134 0.         0.         0.\n",
            " 0.64846464 0.         0.53828134 0.        ]\n"
          ]
        }
      ],
      "source": [
        "# Output a vector corresponding to a document.\n",
        "print(X[0])"
      ]
    },
    {
      "cell_type": "markdown",
      "metadata": {
        "id": "ABdw9Eu40orS"
      },
      "source": [
        "#### 1.2. Calculate the cosine similarity:"
      ]
    },
    {
      "cell_type": "code",
      "execution_count": 8,
      "metadata": {
        "id": "0kECt2AU0orS",
        "outputId": "b3598e35-b2f0-4afa-b45d-1a42acf2f42a",
        "colab": {
          "base_uri": "https://localhost:8080/"
        }
      },
      "outputs": [
        {
          "output_type": "execute_result",
          "data": {
            "text/plain": [
              "array([[1.   , 0.   , 0.   , 0.   , 0.   , 0.   , 0.579],\n",
              "       [0.   , 1.   , 0.   , 0.   , 0.381, 0.538, 0.   ],\n",
              "       [0.   , 0.   , 1.   , 0.   , 0.   , 0.   , 0.   ],\n",
              "       [0.   , 0.   , 0.   , 1.   , 0.358, 0.   , 0.   ],\n",
              "       [0.   , 0.381, 0.   , 0.358, 1.   , 0.   , 0.   ],\n",
              "       [0.   , 0.538, 0.   , 0.   , 0.   , 1.   , 0.   ],\n",
              "       [0.579, 0.   , 0.   , 0.   , 0.   , 0.   , 1.   ]])"
            ]
          },
          "metadata": {},
          "execution_count": 8
        }
      ],
      "source": [
        "# The cosine similarity matrix.\n",
        "1 - np.round(pairwise_distances(X, metric=\"cosine\"),3)"
      ]
    },
    {
      "cell_type": "code",
      "execution_count": 9,
      "metadata": {
        "id": "wowoM0GF0orT",
        "outputId": "fb30f4d5-6245-4879-ed37-4e04ca6a058f",
        "colab": {
          "base_uri": "https://localhost:8080/"
        }
      },
      "outputs": [
        {
          "output_type": "execute_result",
          "data": {
            "text/plain": [
              "0.5794936078209331"
            ]
          },
          "metadata": {},
          "execution_count": 9
        }
      ],
      "source": [
        "# Cosine similarity between two documents by linear algebra.\n",
        "np.dot(X[0], X[6].T)"
      ]
    },
    {
      "cell_type": "code",
      "execution_count": 10,
      "metadata": {
        "id": "gxYYkr8n0orT",
        "outputId": "138d62b9-cefd-4673-9d01-ecb7ae1d1a00",
        "colab": {
          "base_uri": "https://localhost:8080/"
        }
      },
      "outputs": [
        {
          "output_type": "execute_result",
          "data": {
            "text/plain": [
              "0.35793913951147677"
            ]
          },
          "metadata": {},
          "execution_count": 10
        }
      ],
      "source": [
        "# Cosine similarity between two documents by linear algebra.\n",
        "np.dot(X[3], X[4].T)"
      ]
    }
  ],
  "metadata": {
    "kernelspec": {
      "display_name": "Python 3 (ipykernel)",
      "language": "python",
      "name": "python3"
    },
    "language_info": {
      "codemirror_mode": {
        "name": "ipython",
        "version": 3
      },
      "file_extension": ".py",
      "mimetype": "text/x-python",
      "name": "python",
      "nbconvert_exporter": "python",
      "pygments_lexer": "ipython3",
      "version": "3.9.13"
    },
    "colab": {
      "provenance": []
    }
  },
  "nbformat": 4,
  "nbformat_minor": 0
}