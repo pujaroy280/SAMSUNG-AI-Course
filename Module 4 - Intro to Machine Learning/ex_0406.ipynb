{
 "cells": [
  {
   "cell_type": "markdown",
   "metadata": {},
   "source": [
    "## Coding Exercise #0306"
   ]
  },
  {
   "cell_type": "markdown",
   "metadata": {},
   "source": [
    "### 1. Regularized regressions:"
   ]
  },
  {
   "cell_type": "code",
   "execution_count": 1,
   "metadata": {},
   "outputs": [],
   "source": [
    "import numpy as np\n",
    "import pandas as pd\n",
    "import os\n",
    "import matplotlib.pyplot as plt\n",
    "from sklearn.metrics import mean_squared_error\n",
    "from sklearn.model_selection import train_test_split\n",
    "from sklearn.linear_model import Ridge, Lasso"
   ]
  },
  {
   "cell_type": "markdown",
   "metadata": {},
   "source": [
    "#### 1.1. Read in data:\n",
    "\n",
    "The dataset comes from 1974 MotoTrend US Magazine."
   ]
  },
  {
   "cell_type": "code",
   "execution_count": 2,
   "metadata": {},
   "outputs": [
    {
     "name": "stdout",
     "output_type": "stream",
     "text": [
      "Current directory: Before= C:\\Users\\prati\\SAMSUNG_AI\\Module4\n"
     ]
    }
   ],
   "source": [
    "# Go to the directory where the data file is located. \n",
    "# os.chdir(r'~/{directorypath}')                # Please, replace the path with your own.  \n",
    "\n",
    "# Get current working directory\n",
    "directory = os.getcwd()\n",
    "print(f\"Current directory: Before= {directory}\")"
   ]
  },
  {
   "cell_type": "code",
   "execution_count": 3,
   "metadata": {},
   "outputs": [],
   "source": [
    "df = pd.read_csv('data_mtcars.csv', header='infer')"
   ]
  },
  {
   "cell_type": "code",
   "execution_count": 4,
   "metadata": {},
   "outputs": [
    {
     "data": {
      "text/plain": [
       "(32, 12)"
      ]
     },
     "execution_count": 4,
     "metadata": {},
     "output_type": "execute_result"
    }
   ],
   "source": [
    "df.shape"
   ]
  },
  {
   "cell_type": "code",
   "execution_count": 5,
   "metadata": {},
   "outputs": [
    {
     "data": {
      "text/html": [
       "<div>\n",
       "<style scoped>\n",
       "    .dataframe tbody tr th:only-of-type {\n",
       "        vertical-align: middle;\n",
       "    }\n",
       "\n",
       "    .dataframe tbody tr th {\n",
       "        vertical-align: top;\n",
       "    }\n",
       "\n",
       "    .dataframe thead th {\n",
       "        text-align: right;\n",
       "    }\n",
       "</style>\n",
       "<table border=\"1\" class=\"dataframe\">\n",
       "  <thead>\n",
       "    <tr style=\"text-align: right;\">\n",
       "      <th></th>\n",
       "      <th>model</th>\n",
       "      <th>mpg</th>\n",
       "      <th>cyl</th>\n",
       "      <th>disp</th>\n",
       "      <th>hp</th>\n",
       "      <th>drat</th>\n",
       "      <th>wt</th>\n",
       "      <th>qsec</th>\n",
       "      <th>vs</th>\n",
       "      <th>am</th>\n",
       "      <th>gear</th>\n",
       "      <th>carb</th>\n",
       "    </tr>\n",
       "  </thead>\n",
       "  <tbody>\n",
       "    <tr>\n",
       "      <th>0</th>\n",
       "      <td>Mazda RX4</td>\n",
       "      <td>21.0</td>\n",
       "      <td>6</td>\n",
       "      <td>160.0</td>\n",
       "      <td>110</td>\n",
       "      <td>3.90</td>\n",
       "      <td>2.620</td>\n",
       "      <td>16.46</td>\n",
       "      <td>0</td>\n",
       "      <td>1</td>\n",
       "      <td>4</td>\n",
       "      <td>4</td>\n",
       "    </tr>\n",
       "    <tr>\n",
       "      <th>1</th>\n",
       "      <td>Mazda RX4 Wag</td>\n",
       "      <td>21.0</td>\n",
       "      <td>6</td>\n",
       "      <td>160.0</td>\n",
       "      <td>110</td>\n",
       "      <td>3.90</td>\n",
       "      <td>2.875</td>\n",
       "      <td>17.02</td>\n",
       "      <td>0</td>\n",
       "      <td>1</td>\n",
       "      <td>4</td>\n",
       "      <td>4</td>\n",
       "    </tr>\n",
       "    <tr>\n",
       "      <th>2</th>\n",
       "      <td>Datsun 710</td>\n",
       "      <td>22.8</td>\n",
       "      <td>4</td>\n",
       "      <td>108.0</td>\n",
       "      <td>93</td>\n",
       "      <td>3.85</td>\n",
       "      <td>2.320</td>\n",
       "      <td>18.61</td>\n",
       "      <td>1</td>\n",
       "      <td>1</td>\n",
       "      <td>4</td>\n",
       "      <td>1</td>\n",
       "    </tr>\n",
       "    <tr>\n",
       "      <th>3</th>\n",
       "      <td>Hornet 4 Drive</td>\n",
       "      <td>21.4</td>\n",
       "      <td>6</td>\n",
       "      <td>258.0</td>\n",
       "      <td>110</td>\n",
       "      <td>3.08</td>\n",
       "      <td>3.215</td>\n",
       "      <td>19.44</td>\n",
       "      <td>1</td>\n",
       "      <td>0</td>\n",
       "      <td>3</td>\n",
       "      <td>1</td>\n",
       "    </tr>\n",
       "    <tr>\n",
       "      <th>4</th>\n",
       "      <td>Hornet Sportabout</td>\n",
       "      <td>18.7</td>\n",
       "      <td>8</td>\n",
       "      <td>360.0</td>\n",
       "      <td>175</td>\n",
       "      <td>3.15</td>\n",
       "      <td>3.440</td>\n",
       "      <td>17.02</td>\n",
       "      <td>0</td>\n",
       "      <td>0</td>\n",
       "      <td>3</td>\n",
       "      <td>2</td>\n",
       "    </tr>\n",
       "  </tbody>\n",
       "</table>\n",
       "</div>"
      ],
      "text/plain": [
       "               model   mpg  cyl   disp   hp  drat     wt   qsec  vs  am  gear  \\\n",
       "0          Mazda RX4  21.0    6  160.0  110  3.90  2.620  16.46   0   1     4   \n",
       "1      Mazda RX4 Wag  21.0    6  160.0  110  3.90  2.875  17.02   0   1     4   \n",
       "2         Datsun 710  22.8    4  108.0   93  3.85  2.320  18.61   1   1     4   \n",
       "3     Hornet 4 Drive  21.4    6  258.0  110  3.08  3.215  19.44   1   0     3   \n",
       "4  Hornet Sportabout  18.7    8  360.0  175  3.15  3.440  17.02   0   0     3   \n",
       "\n",
       "   carb  \n",
       "0     4  \n",
       "1     4  \n",
       "2     1  \n",
       "3     1  \n",
       "4     2  "
      ]
     },
     "execution_count": 5,
     "metadata": {},
     "output_type": "execute_result"
    }
   ],
   "source": [
    "df.head(5)"
   ]
  },
  {
   "cell_type": "code",
   "execution_count": 6,
   "metadata": {},
   "outputs": [],
   "source": [
    "# Separate into X and Y.\n",
    "X=df.drop(columns=['model','mpg'])\n",
    "Y=df.mpg"
   ]
  },
  {
   "cell_type": "code",
   "execution_count": 7,
   "metadata": {},
   "outputs": [],
   "source": [
    "# Split the dataset.\n",
    "X_train, X_test, Y_train, Y_test = train_test_split(X, Y, test_size=0.3, random_state=123)"
   ]
  },
  {
   "cell_type": "markdown",
   "metadata": {},
   "source": [
    "#### 1.2. Ridge regression:"
   ]
  },
  {
   "cell_type": "code",
   "execution_count": 8,
   "metadata": {},
   "outputs": [],
   "source": [
    "lambdaRange = range(1,100)"
   ]
  },
  {
   "cell_type": "code",
   "execution_count": 9,
   "metadata": {},
   "outputs": [
    {
     "name": "stdout",
     "output_type": "stream",
     "text": [
      "Lambda =  1  and  R^2 =  0.779\n",
      "Lambda =  2  and  R^2 =  0.813\n",
      "Lambda =  3  and  R^2 =  0.822\n",
      "Lambda =  4  and  R^2 =  0.825\n",
      "Lambda =  5  and  R^2 =  0.825\n"
     ]
    },
    {
     "data": {
      "text/plain": [
       "Ridge(alpha=5)"
      ]
     },
     "execution_count": 9,
     "metadata": {},
     "output_type": "execute_result"
    }
   ],
   "source": [
    "bestRsq = 0.0                                                # To contain the best R^2.\n",
    "bestLambda = 0.0                                             # To contain the best lambda.\n",
    "for aLambda in lambdaRange:\n",
    "    ridge = Ridge(aLambda)\n",
    "    ridge.fit(X_train,Y_train)                               # Train with the training set.\n",
    "    rsq = ridge.score(X_test,Y_test)                         # Calculate R^2 with the testing set. \n",
    "    if (rsq > bestRsq):                                      # If R^2 is better, replace bestRsq.\n",
    "        bestRsq = rsq\n",
    "        bestLambda = aLambda\n",
    "        print(\"Lambda = \", bestLambda, \" and  R^2 = \", np.round(rsq,3))\n",
    "ridge = Ridge(bestLambda)                                    # Final run with the bestLambda.\n",
    "ridge.fit(X,Y)                                                  "
   ]
  },
  {
   "cell_type": "code",
   "execution_count": 10,
   "metadata": {},
   "outputs": [
    {
     "data": {
      "text/plain": [
       "28.587763266422783"
      ]
     },
     "execution_count": 10,
     "metadata": {},
     "output_type": "execute_result"
    }
   ],
   "source": [
    "# Show the intercept.\n",
    "ridge.intercept_"
   ]
  },
  {
   "cell_type": "code",
   "execution_count": 11,
   "metadata": {},
   "outputs": [
    {
     "data": {
      "text/plain": [
       "array([-0.51185256, -0.00768344, -0.01533332,  0.61667067, -1.39209019,\n",
       "       -0.00709397,  0.11850925,  0.94390866,  0.71148287, -0.7038523 ])"
      ]
     },
     "execution_count": 11,
     "metadata": {},
     "output_type": "execute_result"
    }
   ],
   "source": [
    "# Show other parameters.\n",
    "ridge.coef_"
   ]
  },
  {
   "cell_type": "markdown",
   "metadata": {},
   "source": [
    "NOTE: In Ridge, even when $\\lambda$ is large no parameter is exactly 0."
   ]
  },
  {
   "cell_type": "markdown",
   "metadata": {},
   "source": [
    "#### 1.3. Lasso regression:"
   ]
  },
  {
   "cell_type": "code",
   "execution_count": 12,
   "metadata": {},
   "outputs": [],
   "source": [
    "lambdaRange = range(1,100)"
   ]
  },
  {
   "cell_type": "code",
   "execution_count": 13,
   "metadata": {},
   "outputs": [
    {
     "name": "stdout",
     "output_type": "stream",
     "text": [
      "Lambda =  1  and  R^2 =  0.735\n",
      "Lambda =  2  and  R^2 =  0.743\n",
      "Lambda =  3  and  R^2 =  0.744\n",
      "Lambda =  4  and  R^2 =  0.744\n",
      "Lambda =  5  and  R^2 =  0.744\n",
      "Lambda =  6  and  R^2 =  0.745\n",
      "Lambda =  7  and  R^2 =  0.745\n",
      "Lambda =  8  and  R^2 =  0.745\n",
      "Lambda =  9  and  R^2 =  0.746\n",
      "Lambda =  10  and  R^2 =  0.746\n",
      "Lambda =  11  and  R^2 =  0.746\n",
      "Lambda =  12  and  R^2 =  0.747\n",
      "Lambda =  13  and  R^2 =  0.747\n",
      "Lambda =  14  and  R^2 =  0.747\n",
      "Lambda =  15  and  R^2 =  0.747\n",
      "Lambda =  16  and  R^2 =  0.747\n",
      "Lambda =  17  and  R^2 =  0.748\n",
      "Lambda =  18  and  R^2 =  0.748\n",
      "Lambda =  19  and  R^2 =  0.748\n",
      "Lambda =  20  and  R^2 =  0.748\n",
      "Lambda =  21  and  R^2 =  0.749\n",
      "Lambda =  22  and  R^2 =  0.749\n",
      "Lambda =  23  and  R^2 =  0.749\n",
      "Lambda =  24  and  R^2 =  0.749\n",
      "Lambda =  25  and  R^2 =  0.749\n",
      "Lambda =  26  and  R^2 =  0.749\n",
      "Lambda =  27  and  R^2 =  0.749\n",
      "Lambda =  28  and  R^2 =  0.75\n",
      "Lambda =  29  and  R^2 =  0.75\n",
      "Lambda =  30  and  R^2 =  0.75\n",
      "Lambda =  31  and  R^2 =  0.75\n",
      "Lambda =  32  and  R^2 =  0.75\n",
      "Lambda =  33  and  R^2 =  0.75\n",
      "Lambda =  34  and  R^2 =  0.75\n",
      "Lambda =  35  and  R^2 =  0.75\n",
      "Lambda =  36  and  R^2 =  0.75\n",
      "Lambda =  37  and  R^2 =  0.75\n",
      "Lambda =  38  and  R^2 =  0.75\n",
      "Lambda =  39  and  R^2 =  0.75\n",
      "Lambda =  40  and  R^2 =  0.75\n",
      "Lambda =  41  and  R^2 =  0.75\n"
     ]
    },
    {
     "data": {
      "text/plain": [
       "Lasso(alpha=41)"
      ]
     },
     "execution_count": 13,
     "metadata": {},
     "output_type": "execute_result"
    }
   ],
   "source": [
    "bestRsq = 0.0                                                # To contain the best R^2.\n",
    "bestLambda = 0.0                                             # To contain the best lambda.\n",
    "for aLambda in lambdaRange:\n",
    "    lasso = Lasso(aLambda)\n",
    "    lasso.fit(X_train,Y_train)                               # Train with the training set.\n",
    "    rsq = lasso.score(X_test,Y_test)                         # Calculate R^2 with the testing set. \n",
    "    if (rsq > bestRsq):                                      # If R^2 is better, replace bestRsq.\n",
    "        bestRsq = rsq\n",
    "        bestLambda = aLambda\n",
    "        print(\"Lambda = \", bestLambda, \" and  R^2 = \", np.round(rsq,3))\n",
    "lasso = Lasso(bestLambda)                                    # Final run with the bestLambda.\n",
    "lasso.fit(X,Y) "
   ]
  },
  {
   "cell_type": "code",
   "execution_count": 14,
   "metadata": {},
   "outputs": [
    {
     "data": {
      "text/plain": [
       "29.481705776221872"
      ]
     },
     "execution_count": 14,
     "metadata": {},
     "output_type": "execute_result"
    }
   ],
   "source": [
    "# Show the intercept.\n",
    "lasso.intercept_"
   ]
  },
  {
   "cell_type": "code",
   "execution_count": 15,
   "metadata": {},
   "outputs": [
    {
     "data": {
      "text/plain": [
       "array([-0.       , -0.0335117, -0.0113111,  0.       , -0.       ,\n",
       "        0.       ,  0.       ,  0.       ,  0.       , -0.       ])"
      ]
     },
     "execution_count": 15,
     "metadata": {},
     "output_type": "execute_result"
    }
   ],
   "source": [
    "# Show other parameters.\n",
    "lasso.coef_"
   ]
  },
  {
   "cell_type": "markdown",
   "metadata": {},
   "source": [
    "NOTE: Lasso can make some parameters exactly 0 when $\\lambda$ is large enough."
   ]
  }
 ],
 "metadata": {
  "kernelspec": {
   "display_name": "Python 3",
   "language": "python",
   "name": "python3"
  },
  "language_info": {
   "codemirror_mode": {
    "name": "ipython",
    "version": 3
   },
   "file_extension": ".py",
   "mimetype": "text/x-python",
   "name": "python",
   "nbconvert_exporter": "python",
   "pygments_lexer": "ipython3",
   "version": "3.8.8"
  }
 },
 "nbformat": 4,
 "nbformat_minor": 4
}
