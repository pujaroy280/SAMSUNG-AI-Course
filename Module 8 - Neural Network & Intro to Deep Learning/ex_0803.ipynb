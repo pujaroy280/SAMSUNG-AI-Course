{
 "cells": [
  {
   "cell_type": "markdown",
   "metadata": {},
   "source": [
    "## Coding Exercise #0803"
   ]
  },
  {
   "cell_type": "markdown",
   "metadata": {},
   "source": [
    "### 1. Softmax regression"
   ]
  },
  {
   "cell_type": "code",
   "execution_count": null,
   "metadata": {},
   "outputs": [],
   "source": [
    "import tensorflow as tf"
   ]
  },
  {
   "cell_type": "markdown",
   "metadata": {},
   "source": [
    "#### 1.1. Prepare data"
   ]
  },
  {
   "cell_type": "code",
   "execution_count": null,
   "metadata": {},
   "outputs": [],
   "source": [
    "import numpy as np\n",
    "import matplotlib.pyplot as plt\n",
    "\n",
    "train_x = [[1,1],[1,3],[2,2],[2,4],[3,1],[3,3],[4,2],[4,4],\n",
    "           [1,11],[1,13],[2,12],[2,14],[3,11],[3,13],[4,12],[4,14],\n",
    "           [5,7],[5,9],[6,6],[6,8],[7,7],[7,9],[8,6],[8,8]]\n",
    "train_y = [[0],[0],[0],[0],[0],[0],[0],[0],\n",
    "           [1],[1],[1],[1],[1],[1],[1],[1],\n",
    "           [2],[2],[2],[2],[2],[2],[2],[2]]\n",
    "\n",
    "train_x = np.array(train_x, dtype=np.float32)\n",
    "train_y = np.array(train_y, dtype=np.float32)\n",
    "\n",
    "plt.scatter(train_x[:,0:1], train_x[:,1:2], c=train_y)\n",
    "plt.show()"
   ]
  },
  {
   "cell_type": "code",
   "execution_count": null,
   "metadata": {},
   "outputs": [],
   "source": [
    "# One-hot Encoding for Label"
   ]
  },
  {
   "cell_type": "code",
   "execution_count": null,
   "metadata": {},
   "outputs": [],
   "source": [
    "from tensorflow.keras.utils import to_categorical\n",
    "\n",
    "train_y = to_categorical(train_y)"
   ]
  },
  {
   "cell_type": "markdown",
   "metadata": {},
   "source": [
    "#### 1.2. Create the model class"
   ]
  },
  {
   "cell_type": "code",
   "execution_count": null,
   "metadata": {},
   "outputs": [],
   "source": [
    "class softmaxWithTF():\n",
    "    def __init__(self):\n",
    "        self.epochs = 1000\n",
    "        self.learning_rate = 0.015\n",
    "        self.w = tf.Variable(tf.random.normal(shape=[2,3], dtype=tf.float32))\n",
    "        self.b = tf.Variable(tf.random.normal(shape=[1,3], dtype=tf.float32))\n",
    "\n",
    "    def train_on_batch(self, x, y):\n",
    "        with tf.GradientTape() as tape:\n",
    "            logit = tf.matmul(x, self.w) + self.b\n",
    "            hypothesis = tf.nn.softmax(logit)\n",
    "            loss = -tf.reduce_mean(tf.reduce_sum(y*tf.math.log(hypothesis), 1))\n",
    "\n",
    "        loss_dw, loss_db = tape.gradient(loss, [self.w, self.b])\n",
    "\n",
    "        self.w.assign_sub(self.learning_rate * loss_dw)\n",
    "        self.b.assign_sub(self.learning_rate * loss_db)\n",
    "\n",
    "        return loss\n",
    "\n",
    "    def fitModel(self, x, y):\n",
    "        dataset = tf.data.Dataset.from_tensor_slices((x,y))\n",
    "        dataset = dataset.shuffle(buffer_size=24).batch(8)\n",
    "\n",
    "        loss_mem = []\n",
    "\n",
    "        for e in range(self.epochs):\n",
    "            for step, (x,y) in enumerate(dataset):\n",
    "                loss = self.train_on_batch(x,y)\n",
    "            loss_mem.append(loss)\n",
    "        return loss_mem\n",
    "\n",
    "    def predictModel(self, x):\n",
    "        logit = tf.matmul(x, self.w) + self.b\n",
    "        hypothesis = tf.nn.softmax(logit)\n",
    "        return tf.argmax(hypothesis, 1)"
   ]
  },
  {
   "cell_type": "markdown",
   "metadata": {},
   "source": [
    "#### 1.3 fitModel"
   ]
  },
  {
   "cell_type": "code",
   "execution_count": null,
   "metadata": {},
   "outputs": [],
   "source": [
    "model = softmaxWithTF()\n",
    "loss_mem = model.fitModel(train_x, train_y)\n",
    "\n",
    "epochs_x = list(range(len(loss_mem)))\n",
    "plt.plot(epochs_x, loss_mem)\n",
    "plt.show()"
   ]
  },
  {
   "cell_type": "markdown",
   "metadata": {},
   "source": [
    "#### 1.4 predictModel"
   ]
  },
  {
   "cell_type": "code",
   "execution_count": null,
   "metadata": {},
   "outputs": [],
   "source": [
    "res_y = model.predictModel(train_x)\n",
    "\n",
    "print(res_y.numpy())\n",
    "\n",
    "res_y = np.expand_dims(res_y.numpy(), axis=1)\n",
    "\n",
    "plt.scatter(train_x[:,0:1], train_x[:,1:2], c=res_y)\n",
    "plt.show()"
   ]
  }
 ],
 "metadata": {
  "kernelspec": {
   "display_name": "Python 3",
   "language": "python",
   "name": "python3"
  },
  "language_info": {
   "codemirror_mode": {
    "name": "ipython",
    "version": 3
   },
   "file_extension": ".py",
   "mimetype": "text/x-python",
   "name": "python",
   "nbconvert_exporter": "python",
   "pygments_lexer": "ipython3",
   "version": "3.8.8"
  }
 },
 "nbformat": 4,
 "nbformat_minor": 2
}
