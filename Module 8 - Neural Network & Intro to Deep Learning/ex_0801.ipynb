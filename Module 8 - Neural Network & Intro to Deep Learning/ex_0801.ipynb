{
 "cells": [
  {
   "cell_type": "markdown",
   "metadata": {},
   "source": [
    "## Coding Exercise #0801"
   ]
  },
  {
   "cell_type": "markdown",
   "metadata": {},
   "source": [
    "### 1. TensorFlow basics:"
   ]
  },
  {
   "cell_type": "code",
   "execution_count": 1,
   "metadata": {},
   "outputs": [],
   "source": [
    "# Install once.\n",
    "# !pip install tensorflow\n",
    "# OR\n",
    "# !pip install --user tensorflow-gpu"
   ]
  },
  {
   "cell_type": "code",
   "execution_count": 2,
   "metadata": {},
   "outputs": [
    {
     "name": "stdout",
     "output_type": "stream",
     "text": [
      "Requirement already satisfied: tensorflow in c:\\users\\prati\\anaconda3\\lib\\site-packages (2.3.0)\n",
      "Requirement already satisfied: google-pasta>=0.1.8 in c:\\users\\prati\\anaconda3\\lib\\site-packages (from tensorflow) (0.2.0)\n",
      "Requirement already satisfied: astunparse==1.6.3 in c:\\users\\prati\\anaconda3\\lib\\site-packages (from tensorflow) (1.6.3)\n",
      "Requirement already satisfied: protobuf>=3.9.2 in c:\\users\\prati\\anaconda3\\lib\\site-packages (from tensorflow) (3.18.0)\n",
      "Requirement already satisfied: tensorboard<3,>=2.3.0 in c:\\users\\prati\\anaconda3\\lib\\site-packages (from tensorflow) (2.7.0)\n",
      "Requirement already satisfied: wrapt>=1.11.1 in c:\\users\\prati\\anaconda3\\lib\\site-packages (from tensorflow) (1.12.1)\n",
      "Requirement already satisfied: wheel>=0.26 in c:\\users\\prati\\anaconda3\\lib\\site-packages (from tensorflow) (0.36.2)\n",
      "Requirement already satisfied: six>=1.12.0 in c:\\users\\prati\\anaconda3\\lib\\site-packages (from tensorflow) (1.15.0)\n",
      "Requirement already satisfied: grpcio>=1.8.6 in c:\\users\\prati\\anaconda3\\lib\\site-packages (from tensorflow) (1.38.1)\n",
      "Requirement already satisfied: h5py<2.11.0,>=2.10.0 in c:\\users\\prati\\anaconda3\\lib\\site-packages (from tensorflow) (2.10.0)\n",
      "Requirement already satisfied: opt-einsum>=2.3.2 in c:\\users\\prati\\anaconda3\\lib\\site-packages (from tensorflow) (3.3.0)\n",
      "Collecting scipy==1.4.1\n",
      "  Downloading scipy-1.4.1-cp38-cp38-win_amd64.whl (31.0 MB)\n",
      "Requirement already satisfied: keras-preprocessing<1.2,>=1.1.1 in c:\\users\\prati\\anaconda3\\lib\\site-packages (from tensorflow) (1.1.2)\n",
      "Collecting gast==0.3.3\n",
      "  Downloading gast-0.3.3-py2.py3-none-any.whl (9.7 kB)\n",
      "Collecting tensorflow-estimator<2.4.0,>=2.3.0\n",
      "  Downloading tensorflow_estimator-2.3.0-py2.py3-none-any.whl (459 kB)\n",
      "Collecting numpy<1.19.0,>=1.16.0\n",
      "  Downloading numpy-1.18.5-cp38-cp38-win_amd64.whl (12.8 MB)\n",
      "Requirement already satisfied: termcolor>=1.1.0 in c:\\users\\prati\\anaconda3\\lib\\site-packages (from tensorflow) (1.1.0)\n",
      "Requirement already satisfied: absl-py>=0.7.0 in c:\\users\\prati\\anaconda3\\lib\\site-packages (from tensorflow) (1.0.0)\n",
      "Requirement already satisfied: tensorboard-plugin-wit>=1.6.0 in c:\\users\\prati\\anaconda3\\lib\\site-packages (from tensorboard<3,>=2.3.0->tensorflow) (1.8.0)\n",
      "Requirement already satisfied: tensorboard-data-server<0.7.0,>=0.6.0 in c:\\users\\prati\\anaconda3\\lib\\site-packages (from tensorboard<3,>=2.3.0->tensorflow) (0.6.0)\n",
      "Requirement already satisfied: requests<3,>=2.21.0 in c:\\users\\prati\\anaconda3\\lib\\site-packages (from tensorboard<3,>=2.3.0->tensorflow) (2.25.1)\n",
      "Requirement already satisfied: werkzeug>=0.11.15 in c:\\users\\prati\\anaconda3\\lib\\site-packages (from tensorboard<3,>=2.3.0->tensorflow) (1.0.1)\n",
      "Requirement already satisfied: google-auth<3,>=1.6.3 in c:\\users\\prati\\anaconda3\\lib\\site-packages (from tensorboard<3,>=2.3.0->tensorflow) (1.21.3)\n",
      "Requirement already satisfied: markdown>=2.6.8 in c:\\users\\prati\\anaconda3\\lib\\site-packages (from tensorboard<3,>=2.3.0->tensorflow) (3.3.4)\n",
      "Requirement already satisfied: setuptools>=41.0.0 in c:\\users\\prati\\anaconda3\\lib\\site-packages (from tensorboard<3,>=2.3.0->tensorflow) (52.0.0.post20210125)\n",
      "Requirement already satisfied: google-auth-oauthlib<0.5,>=0.4.1 in c:\\users\\prati\\anaconda3\\lib\\site-packages (from tensorboard<3,>=2.3.0->tensorflow) (0.4.6)\n",
      "Requirement already satisfied: cachetools<5.0,>=2.0.0 in c:\\users\\prati\\anaconda3\\lib\\site-packages (from google-auth<3,>=1.6.3->tensorboard<3,>=2.3.0->tensorflow) (4.2.4)\n"
     ]
    },
    {
     "name": "stderr",
     "output_type": "stream",
     "text": [
      "ERROR: Could not install packages due to an OSError: [WinError 5] Access is denied: 'C:\\\\Users\\\\prati\\\\anaconda3\\\\Lib\\\\site-packages\\\\~umpy\\\\.libs\\\\libopenblas.EL2C6PLE4ZYW3ECEVIV3OXXGRN2NRFM2.gfortran-win_amd64.dll'\n",
      "Consider using the `--user` option or check the permissions.\n",
      "\n"
     ]
    },
    {
     "name": "stdout",
     "output_type": "stream",
     "text": [
      "Requirement already satisfied: pyasn1-modules>=0.2.1 in c:\\users\\prati\\anaconda3\\lib\\site-packages (from google-auth<3,>=1.6.3->tensorboard<3,>=2.3.0->tensorflow) (0.2.7)\n",
      "Requirement already satisfied: rsa<5,>=3.1.4 in c:\\users\\prati\\anaconda3\\lib\\site-packages (from google-auth<3,>=1.6.3->tensorboard<3,>=2.3.0->tensorflow) (4.7.2)\n",
      "Requirement already satisfied: requests-oauthlib>=0.7.0 in c:\\users\\prati\\anaconda3\\lib\\site-packages (from google-auth-oauthlib<0.5,>=0.4.1->tensorboard<3,>=2.3.0->tensorflow) (1.3.0)\n",
      "Requirement already satisfied: pyasn1<0.5.0,>=0.4.6 in c:\\users\\prati\\anaconda3\\lib\\site-packages (from pyasn1-modules>=0.2.1->google-auth<3,>=1.6.3->tensorboard<3,>=2.3.0->tensorflow) (0.4.8)\n",
      "Requirement already satisfied: idna<3,>=2.5 in c:\\users\\prati\\anaconda3\\lib\\site-packages (from requests<3,>=2.21.0->tensorboard<3,>=2.3.0->tensorflow) (2.10)\n",
      "Requirement already satisfied: chardet<5,>=3.0.2 in c:\\users\\prati\\anaconda3\\lib\\site-packages (from requests<3,>=2.21.0->tensorboard<3,>=2.3.0->tensorflow) (4.0.0)\n",
      "Requirement already satisfied: urllib3<1.27,>=1.21.1 in c:\\users\\prati\\anaconda3\\lib\\site-packages (from requests<3,>=2.21.0->tensorboard<3,>=2.3.0->tensorflow) (1.26.4)\n",
      "Requirement already satisfied: certifi>=2017.4.17 in c:\\users\\prati\\anaconda3\\lib\\site-packages (from requests<3,>=2.21.0->tensorboard<3,>=2.3.0->tensorflow) (2020.12.5)\n",
      "Requirement already satisfied: oauthlib>=3.0.0 in c:\\users\\prati\\anaconda3\\lib\\site-packages (from requests-oauthlib>=0.7.0->google-auth-oauthlib<0.5,>=0.4.1->tensorboard<3,>=2.3.0->tensorflow) (3.1.1)\n",
      "Installing collected packages: numpy, tensorflow-estimator, scipy, gast\n",
      "  Attempting uninstall: numpy\n",
      "    Found existing installation: numpy 1.22.3\n",
      "    Uninstalling numpy-1.22.3:\n",
      "      Successfully uninstalled numpy-1.22.3\n"
     ]
    }
   ],
   "source": [
    "!pip install tensorflow"
   ]
  },
  {
   "cell_type": "code",
   "execution_count": 3,
   "metadata": {},
   "outputs": [
    {
     "name": "stderr",
     "output_type": "stream",
     "text": [
      "C:\\Users\\prati\\anaconda3\\lib\\site-packages\\scipy\\__init__.py:173: UserWarning: A NumPy version >=1.19.5 and <1.27.0 is required for this version of SciPy (detected version 1.18.5)\n",
      "  warnings.warn(f\"A NumPy version >={np_minversion} and <{np_maxversion}\"\n"
     ]
    }
   ],
   "source": [
    "import tensorflow as tf\n",
    "import numpy as np"
   ]
  },
  {
   "cell_type": "code",
   "execution_count": 4,
   "metadata": {},
   "outputs": [
    {
     "data": {
      "text/plain": [
       "'2.3.0'"
      ]
     },
     "execution_count": 4,
     "metadata": {},
     "output_type": "execute_result"
    }
   ],
   "source": [
    "tf.__version__"
   ]
  },
  {
   "cell_type": "markdown",
   "metadata": {},
   "source": [
    "#### 1.1. Hello World!"
   ]
  },
  {
   "cell_type": "code",
   "execution_count": 5,
   "metadata": {},
   "outputs": [],
   "source": [
    "hello = tf.constant(\"Hello World!\")"
   ]
  },
  {
   "cell_type": "code",
   "execution_count": 6,
   "metadata": {},
   "outputs": [
    {
     "data": {
      "text/plain": [
       "<tf.Tensor: shape=(), dtype=string, numpy=b'Hello World!'>"
      ]
     },
     "execution_count": 6,
     "metadata": {},
     "output_type": "execute_result"
    }
   ],
   "source": [
    "hello"
   ]
  },
  {
   "cell_type": "markdown",
   "metadata": {},
   "source": [
    "#### 1.2. Creating tensors:"
   ]
  },
  {
   "cell_type": "code",
   "execution_count": 7,
   "metadata": {},
   "outputs": [],
   "source": [
    "hello = tf.constant(\"Hello World!\")                         # String.\n",
    "const_scalar = tf.constant(7)                               # A scalar tensor.\n",
    "const_matrix = tf.constant([[1,2], [3,4]])                  # A matrix tensor.\n",
    "mat_fill = tf.fill((4,4),9)                                 # A 4x4 tensor filled with 9s.\n",
    "mat_zeros = tf.zeros((3,3))                                 # A 3x3 tensor filled with 0s.\n",
    "mat_ones = tf.ones((5,5))                                   # A 5x5 tensor filled with 1s.\n",
    "mat_randn = tf.random.normal((3,3), mean=0, stddev=1.0)     # 3x3 random normal tensor.\n",
    "mat_randu = tf.random.uniform((4,4), minval=0, maxval=1.0)  # 4x4 random uniform tensor."
   ]
  },
  {
   "cell_type": "code",
   "execution_count": 8,
   "metadata": {},
   "outputs": [
    {
     "name": "stdout",
     "output_type": "stream",
     "text": [
      "<class 'tensorflow.python.framework.ops.EagerTensor'>\n",
      "\n",
      "\n",
      "tf.Tensor(b'Hello World!', shape=(), dtype=string)\n",
      "\n",
      "\n",
      "<class 'tensorflow.python.framework.ops.EagerTensor'>\n",
      "\n",
      "\n",
      "tf.Tensor(7, shape=(), dtype=int32)\n",
      "\n",
      "\n",
      "<class 'tensorflow.python.framework.ops.EagerTensor'>\n",
      "\n",
      "\n",
      "tf.Tensor(\n",
      "[[1 2]\n",
      " [3 4]], shape=(2, 2), dtype=int32)\n",
      "\n",
      "\n",
      "<class 'tensorflow.python.framework.ops.EagerTensor'>\n",
      "\n",
      "\n",
      "tf.Tensor(\n",
      "[[9 9 9 9]\n",
      " [9 9 9 9]\n",
      " [9 9 9 9]\n",
      " [9 9 9 9]], shape=(4, 4), dtype=int32)\n",
      "\n",
      "\n",
      "<class 'tensorflow.python.framework.ops.EagerTensor'>\n",
      "\n",
      "\n",
      "tf.Tensor(\n",
      "[[0. 0. 0.]\n",
      " [0. 0. 0.]\n",
      " [0. 0. 0.]], shape=(3, 3), dtype=float32)\n",
      "\n",
      "\n",
      "<class 'tensorflow.python.framework.ops.EagerTensor'>\n",
      "\n",
      "\n",
      "tf.Tensor(\n",
      "[[1. 1. 1. 1. 1.]\n",
      " [1. 1. 1. 1. 1.]\n",
      " [1. 1. 1. 1. 1.]\n",
      " [1. 1. 1. 1. 1.]\n",
      " [1. 1. 1. 1. 1.]], shape=(5, 5), dtype=float32)\n",
      "\n",
      "\n",
      "<class 'tensorflow.python.framework.ops.EagerTensor'>\n",
      "\n",
      "\n",
      "tf.Tensor(\n",
      "[[ 1.0593039   1.0217867   2.241534  ]\n",
      " [-0.42508805  2.8602548  -0.6381163 ]\n",
      " [-1.1328164   0.2800218  -0.27239665]], shape=(3, 3), dtype=float32)\n",
      "\n",
      "\n",
      "<class 'tensorflow.python.framework.ops.EagerTensor'>\n",
      "\n",
      "\n",
      "tf.Tensor(\n",
      "[[0.0861913  0.24774623 0.8036214  0.14424837]\n",
      " [0.8182806  0.44498587 0.47551095 0.9067943 ]\n",
      " [0.5238701  0.906178   0.01396668 0.43644035]\n",
      " [0.34691072 0.03785431 0.36851716 0.3025521 ]], shape=(4, 4), dtype=float32)\n",
      "\n",
      "\n"
     ]
    }
   ],
   "source": [
    "my_ops=[hello, const_scalar, const_matrix, mat_fill, mat_zeros, mat_ones, mat_randn, mat_randu]\n",
    "for op in my_ops:\n",
    "    print(type(op))\n",
    "    print('\\n')\n",
    "    print(op)\n",
    "    print('\\n')"
   ]
  },
  {
   "cell_type": "markdown",
   "metadata": {},
   "source": [
    "#### 1.3. Math operations:"
   ]
  },
  {
   "cell_type": "code",
   "execution_count": 9,
   "metadata": {},
   "outputs": [],
   "source": [
    "n1 = tf.constant(2)\n",
    "n2 = tf.constant(3)\n",
    "n3 = n1* n2"
   ]
  },
  {
   "cell_type": "code",
   "execution_count": 10,
   "metadata": {},
   "outputs": [
    {
     "name": "stdout",
     "output_type": "stream",
     "text": [
      "tf.Tensor(6, shape=(), dtype=int32)\n"
     ]
    }
   ],
   "source": [
    "print(n3)"
   ]
  },
  {
   "cell_type": "code",
   "execution_count": 11,
   "metadata": {},
   "outputs": [
    {
     "name": "stdout",
     "output_type": "stream",
     "text": [
      "tf.Tensor(9, shape=(), dtype=int32)\n"
     ]
    }
   ],
   "source": [
    "n1 = tf.constant(4)\n",
    "n2 = tf.constant(5)\n",
    "n3 = tf.add(n1,n2)\n",
    "print(n3)"
   ]
  },
  {
   "cell_type": "code",
   "execution_count": 12,
   "metadata": {},
   "outputs": [
    {
     "name": "stdout",
     "output_type": "stream",
     "text": [
      "tf.Tensor(20, shape=(), dtype=int32)\n"
     ]
    }
   ],
   "source": [
    "n1 = tf.constant(4)\n",
    "n2 = tf.constant(5)\n",
    "n3 = tf.multiply(n1,n2)\n",
    "print(n3)"
   ]
  },
  {
   "cell_type": "code",
   "execution_count": 13,
   "metadata": {},
   "outputs": [
    {
     "name": "stdout",
     "output_type": "stream",
     "text": [
      "tf.Tensor(8, shape=(), dtype=int32)\n"
     ]
    }
   ],
   "source": [
    "n1 = tf.constant(2)\n",
    "n2 = tf.constant(3)\n",
    "n3 = tf.pow(n1,n2)\n",
    "print(n3)"
   ]
  },
  {
   "cell_type": "markdown",
   "metadata": {},
   "source": [
    "#### 1.4. Matrix functions and operations:"
   ]
  },
  {
   "cell_type": "code",
   "execution_count": 14,
   "metadata": {},
   "outputs": [
    {
     "name": "stdout",
     "output_type": "stream",
     "text": [
      "tf.Tensor(\n",
      "[[ 5]\n",
      " [11]], shape=(2, 1), dtype=int32)\n"
     ]
    }
   ],
   "source": [
    "m1 = tf.constant([[1,2], [3,4]])\n",
    "m2 = tf.constant([[1], [2]])\n",
    "m3 = tf.matmul(m1, m2)                            # Matrix multiplication. Different from the element-wise multiplication with multiply().\n",
    "print(m3)"
   ]
  },
  {
   "cell_type": "code",
   "execution_count": 15,
   "metadata": {},
   "outputs": [
    {
     "name": "stdout",
     "output_type": "stream",
     "text": [
      "tf.Tensor(\n",
      "[[19 22]\n",
      " [43 50]], shape=(2, 2), dtype=int32)\n"
     ]
    }
   ],
   "source": [
    "m1 = tf.constant([[1,2], [3,4]])\n",
    "m2 = tf.constant([[5, 6], [7, 8]])\n",
    "m3 = tf.matmul(m1, m2)\n",
    "print(m3)"
   ]
  },
  {
   "cell_type": "code",
   "execution_count": 16,
   "metadata": {},
   "outputs": [
    {
     "name": "stdout",
     "output_type": "stream",
     "text": [
      "tf.Tensor(\n",
      "[[ 5 12]\n",
      " [21 32]], shape=(2, 2), dtype=int32)\n"
     ]
    }
   ],
   "source": [
    "m3 = tf.multiply(m1, m2)\n",
    "print(m3)"
   ]
  },
  {
   "cell_type": "code",
   "execution_count": 17,
   "metadata": {},
   "outputs": [
    {
     "name": "stdout",
     "output_type": "stream",
     "text": [
      "tf.Tensor(\n",
      "[[ 5 12]\n",
      " [21 32]], shape=(2, 2), dtype=int32)\n"
     ]
    }
   ],
   "source": [
    "m3 = m1*m2\n",
    "print(m3)"
   ]
  },
  {
   "cell_type": "code",
   "execution_count": 18,
   "metadata": {},
   "outputs": [
    {
     "name": "stdout",
     "output_type": "stream",
     "text": [
      "tf.Tensor(\n",
      "[[ 6  8]\n",
      " [10 12]], shape=(2, 2), dtype=int32)\n"
     ]
    }
   ],
   "source": [
    "m3 = m1 + m2\n",
    "print(m3)"
   ]
  },
  {
   "cell_type": "code",
   "execution_count": 19,
   "metadata": {},
   "outputs": [
    {
     "name": "stdout",
     "output_type": "stream",
     "text": [
      "tf.Tensor(\n",
      "[[-4 -4]\n",
      " [-4 -4]], shape=(2, 2), dtype=int32)\n"
     ]
    }
   ],
   "source": [
    "m3 = m1-m2\n",
    "print(m3)"
   ]
  },
  {
   "cell_type": "code",
   "execution_count": 20,
   "metadata": {},
   "outputs": [
    {
     "name": "stdout",
     "output_type": "stream",
     "text": [
      "[[0.2   0.333]\n",
      " [0.429 0.5  ]]\n"
     ]
    }
   ],
   "source": [
    "m3 = m1 / m2\n",
    "print(np.round(m3,3))"
   ]
  },
  {
   "cell_type": "code",
   "execution_count": 21,
   "metadata": {},
   "outputs": [
    {
     "name": "stdout",
     "output_type": "stream",
     "text": [
      "[[1. 2.]\n",
      " [3. 4.]]\n",
      "\n",
      "\n",
      "[[1 0 0]\n",
      " [0 2 0]\n",
      " [0 0 3]]\n",
      "\n",
      "\n",
      "[[1. 3.]\n",
      " [2. 4.]]\n",
      "\n",
      "\n",
      "[[-2.   1. ]\n",
      " [ 1.5 -0.5]]\n",
      "\n",
      "\n",
      "[[ 1.  0.]\n",
      " [-0.  1.]]\n",
      "\n",
      "\n",
      "-2.0\n",
      "\n",
      "\n"
     ]
    }
   ],
   "source": [
    "# Matrix functions.\n",
    "m = tf.constant([[1.0,2.0],[3.0,4.0]])\n",
    "m_diagonal = tf.linalg.diag([1,2,3])\n",
    "m_transpose = tf.linalg.matrix_transpose(m)\n",
    "m_inverse = tf.linalg.inv(m)\n",
    "m_multiplied = tf.matmul(m, m_inverse)\n",
    "m_determinant = tf.linalg.det(m)\n",
    "my_matrices = [m, m_diagonal, m_transpose, m_inverse, m_multiplied, m_determinant]\n",
    "for mat in my_matrices:\n",
    "    print(np.round(mat,3))\n",
    "    print('\\n')"
   ]
  },
  {
   "cell_type": "markdown",
   "metadata": {},
   "source": [
    "#### 1.5. TensorFlow Variable:"
   ]
  },
  {
   "cell_type": "code",
   "execution_count": 22,
   "metadata": {},
   "outputs": [
    {
     "name": "stdout",
     "output_type": "stream",
     "text": [
      "tf.Tensor(-3, shape=(), dtype=int32)\n"
     ]
    }
   ],
   "source": [
    "# Initializing Variables #1\n",
    "x = tf.Variable(initial_value=5, name='x')       # Define.\n",
    "y = tf.Variable(initial_value=6, name='y')       # Define.\n",
    "f = (x - y)*y + 3                                # Define.\n",
    "print(f)"
   ]
  },
  {
   "cell_type": "code",
   "execution_count": 23,
   "metadata": {},
   "outputs": [
    {
     "name": "stdout",
     "output_type": "stream",
     "text": [
      "tf.Tensor(11, shape=(), dtype=int32)\n"
     ]
    }
   ],
   "source": [
    "# Initializing Variables #2\n",
    "x = tf.Variable(initial_value=3, name='x')       # Define.\n",
    "y = tf.Variable(initial_value=2, name='y')       # Define.\n",
    "f = x*y + y + 3                                  # Define.\n",
    "print(f)"
   ]
  }
 ],
 "metadata": {
  "kernelspec": {
   "display_name": "Python 3",
   "language": "python",
   "name": "python3"
  },
  "language_info": {
   "codemirror_mode": {
    "name": "ipython",
    "version": 3
   },
   "file_extension": ".py",
   "mimetype": "text/x-python",
   "name": "python",
   "nbconvert_exporter": "python",
   "pygments_lexer": "ipython3",
   "version": "3.8.8"
  }
 },
 "nbformat": 4,
 "nbformat_minor": 2
}
