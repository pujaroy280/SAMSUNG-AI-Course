{
 "cells": [
  {
   "cell_type": "markdown",
   "id": "0f5659f4",
   "metadata": {},
   "source": [
    "## Slide Deck 9a.1 Code"
   ]
  },
  {
   "cell_type": "markdown",
   "id": "13d5b30e",
   "metadata": {},
   "source": [
    "These code snippets align with those in slide deck 9a.1."
   ]
  },
  {
   "cell_type": "code",
   "execution_count": null,
   "id": "3b3498d5",
   "metadata": {},
   "outputs": [],
   "source": [
    "#import tensorflow\n",
    "import tensorflow as tf\n",
    "\n",
    "tf.__version__"
   ]
  },
  {
   "cell_type": "code",
   "execution_count": null,
   "id": "bc81da45",
   "metadata": {},
   "outputs": [],
   "source": [
    "# hide warnings about rebuilding tensor flow\n",
    "import os\n",
    "os.environ['TF_CPP_MIN_LOG_LEVEL'] = '2'\n",
    "\n",
    "# import numpy, a math library\n",
    "import numpy as np\n",
    "np.set_printoptions(precision=3)"
   ]
  },
  {
   "cell_type": "code",
   "execution_count": null,
   "id": "f0e3c5b2",
   "metadata": {},
   "outputs": [],
   "source": [
    "# let's use tf.convert_to_tensor to create a tensor\n",
    "\n",
    "a = np.array([1,2,3], dtype=np.int32)\n",
    "b = [4,5,6]\n",
    "\n",
    "t_a = tf.convert_to_tensor(a)\n",
    "t_b = tf.convert_to_tensor(b)\n",
    "\n",
    "print(t_a)\n",
    "print(t_b)"
   ]
  },
  {
   "cell_type": "code",
   "execution_count": null,
   "id": "3eba4af0",
   "metadata": {},
   "outputs": [],
   "source": [
    "# test which one is a tesnor\n",
    "\n",
    "tf.is_tensor(a), tf.is_tensor(t_a)"
   ]
  },
  {
   "cell_type": "markdown",
   "id": "f60a19cc",
   "metadata": {},
   "source": [
    "### Creating a tensor in Tensorflow"
   ]
  },
  {
   "cell_type": "code",
   "execution_count": null,
   "id": "cb5372d8",
   "metadata": {},
   "outputs": [],
   "source": [
    "# creating a tensor with tf.ones()\n",
    "\n",
    "t_ones = tf.ones((2,3))\n",
    "\n",
    "t_ones.shape"
   ]
  },
  {
   "cell_type": "code",
   "execution_count": null,
   "id": "c19ebccc",
   "metadata": {},
   "outputs": [],
   "source": [
    "t_ones.numpy()"
   ]
  },
  {
   "cell_type": "code",
   "execution_count": null,
   "id": "c692dbdf",
   "metadata": {},
   "outputs": [],
   "source": [
    "# creating a constant tensor from a tensor-like object\n",
    "\n",
    "const_tensor = tf.constant([1.2,5,np.pi],dtype=tf.float32)\n",
    "\n",
    "print(const_tensor)"
   ]
  },
  {
   "cell_type": "code",
   "execution_count": null,
   "id": "4caf9c55",
   "metadata": {},
   "outputs": [],
   "source": [
    "# use tf.fill to generate a tensor composed of scalar inputs\n",
    "# first parameter (2,3) assigns the shape\n",
    "# second parametwr (1) delivers the desired scalar input.\n",
    "tf.fill((2,3),1)"
   ]
  },
  {
   "cell_type": "code",
   "execution_count": null,
   "id": "acd544c4",
   "metadata": {},
   "outputs": [],
   "source": [
    "# create a one-hot encoding matrix using some initial data\n",
    "t_a = tf.one_hot([0,1,2],4)\n",
    "\n",
    "# print the data type of the values in the matrix\n",
    "print(t_a.dtype)\n",
    "\n",
    "# print the matrix itself\n",
    "print(t_a)"
   ]
  },
  {
   "cell_type": "markdown",
   "id": "6b6f07a9",
   "metadata": {},
   "source": [
    "### Modifying shape and data type of a tensor"
   ]
  },
  {
   "cell_type": "code",
   "execution_count": null,
   "id": "0682f231",
   "metadata": {},
   "outputs": [],
   "source": [
    "# how to modify data type\n",
    "\n",
    "# cast the matrix as a new data type\n",
    "t_a_new = tf.cast(t_a, tf.int64)\n",
    "\n",
    "# print the data type of the new matrix\n",
    "print(t_a_new.dtype)\n",
    "\n",
    "# print the matrix itself\n",
    "print(t_a_new)"
   ]
  },
  {
   "cell_type": "code",
   "execution_count": null,
   "id": "67ac09a0",
   "metadata": {},
   "outputs": [],
   "source": [
    "# how to modify shape\n",
    "\n",
    "# initialize a tensor\n",
    "t = tf.random.uniform(shape=(3,5))\n",
    "\n",
    "# flip the order of numbers with transpose(t)\n",
    "t_tr = tf.transpose(t)\n",
    "\n",
    "print(t.shape, ' -->', t_tr.shape)"
   ]
  },
  {
   "cell_type": "code",
   "execution_count": null,
   "id": "013ca71f",
   "metadata": {},
   "outputs": [],
   "source": [
    "# modifying the shape with tf.reshape\n",
    "\n",
    "t = tf.zeros((30,))\n",
    "\n",
    "t_reshape = tf.reshape(t, shape=(5,6))\n",
    "\n",
    "print(t_reshape.shape)"
   ]
  },
  {
   "cell_type": "code",
   "execution_count": null,
   "id": "69413b38",
   "metadata": {},
   "outputs": [],
   "source": [
    "# modifying the shape with tf.squeeze\n",
    "\n",
    "t = tf.zeros((1,2,1,4,1))\n",
    "\n",
    "t_sqz = tf.squeeze(t, axis=(2,4))\n",
    "\n",
    "print(t.shape, ' --> ', t_sqz.shape)"
   ]
  },
  {
   "cell_type": "markdown",
   "id": "26ec0e74",
   "metadata": {},
   "source": [
    "### Applying Math operations on a tensor"
   ]
  },
  {
   "cell_type": "code",
   "execution_count": null,
   "id": "6af6e837",
   "metadata": {},
   "outputs": [],
   "source": [
    "# applying math operations on a tensor\n",
    "\n",
    "tf.random.set_seed(1)\n",
    "\n",
    "t1 = tf.random.uniform(shape=(5,2), minval=-1.0,maxval=1.0)\n",
    "\n",
    "t2 = tf.random.normal(shape=(5,2),mean=0.0,stddev=1.0)\n",
    "\n",
    "print(\"== t1 == \\n\")\n",
    "print(t1)\n",
    "print(\"\\n== t2 ==\\n\")\n",
    "print(t2)"
   ]
  },
  {
   "cell_type": "code",
   "execution_count": null,
   "id": "956e55e9",
   "metadata": {},
   "outputs": [],
   "source": [
    "t3 = tf.multiply(t1,t2).numpy()\n",
    "\n",
    "print(t3)"
   ]
  },
  {
   "cell_type": "code",
   "execution_count": null,
   "id": "1461cfc2",
   "metadata": {},
   "outputs": [],
   "source": [
    "t4 = tf.math.reduce_mean(t1, axis=0)\n",
    "\n",
    "print(t4)"
   ]
  },
  {
   "cell_type": "code",
   "execution_count": null,
   "id": "eb6537b1",
   "metadata": {},
   "outputs": [],
   "source": [
    "t5 = tf.linalg.matmul(t1, t2, transpose_b=True)\n",
    "\n",
    "print(t5.numpy())"
   ]
  },
  {
   "cell_type": "code",
   "execution_count": null,
   "id": "2cacc7ef",
   "metadata": {},
   "outputs": [],
   "source": [
    "t6 = tf.linalg.matmul(t1, t2, transpose_a=True)\n",
    "\n",
    "print(t6.numpy())"
   ]
  },
  {
   "cell_type": "code",
   "execution_count": null,
   "id": "f969d696",
   "metadata": {},
   "outputs": [],
   "source": [
    "t1 @ tf.transpose(t2)"
   ]
  },
  {
   "cell_type": "markdown",
   "id": "77d25657",
   "metadata": {},
   "source": [
    "### Split, Stack, and Concatenate"
   ]
  },
  {
   "cell_type": "code",
   "execution_count": null,
   "id": "d3e92161",
   "metadata": {},
   "outputs": [],
   "source": [
    "# split function\n",
    "\n",
    "tf.random.set_seed(1)\n",
    "\n",
    "t = tf.random.uniform((6,))\n",
    "\n",
    "print(t.numpy())\n",
    "\n",
    "t_splits = tf.split(t,3)\n",
    "\n",
    "[item.numpy() for item in t_splits]"
   ]
  },
  {
   "cell_type": "code",
   "execution_count": null,
   "id": "4916d997",
   "metadata": {},
   "outputs": [],
   "source": [
    "#  concatenate function\n",
    "\n",
    "A = tf.ones((3,))\n",
    "\n",
    "B = tf.zeros((2,))\n",
    "\n",
    "C = tf.concat([A,B], axis=0)\n",
    "\n",
    "print(C.numpy())"
   ]
  },
  {
   "cell_type": "code",
   "execution_count": null,
   "id": "f7b6b125",
   "metadata": {},
   "outputs": [],
   "source": [
    "#  stack function\n",
    "\n",
    "A = tf.ones((3,))\n",
    "\n",
    "B = tf.zeros((3,))\n",
    "\n",
    "S = tf.stack([A, B], axis=1)\n",
    "\n",
    "print(S.numpy())"
   ]
  },
  {
   "cell_type": "code",
   "execution_count": null,
   "id": "352b3ecb",
   "metadata": {},
   "outputs": [],
   "source": []
  }
 ],
 "metadata": {
  "kernelspec": {
   "display_name": "Python 3 (ipykernel)",
   "language": "python",
   "name": "python3"
  },
  "language_info": {
   "codemirror_mode": {
    "name": "ipython",
    "version": 3
   },
   "file_extension": ".py",
   "mimetype": "text/x-python",
   "name": "python",
   "nbconvert_exporter": "python",
   "pygments_lexer": "ipython3",
   "version": "3.9.13"
  }
 },
 "nbformat": 4,
 "nbformat_minor": 5
}
