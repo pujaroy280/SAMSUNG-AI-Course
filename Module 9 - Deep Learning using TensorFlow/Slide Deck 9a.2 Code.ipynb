{
 "cells": [
  {
   "cell_type": "markdown",
   "id": "0f5659f4",
   "metadata": {},
   "source": [
    "## Slide Deck 9a.2 Code"
   ]
  },
  {
   "cell_type": "markdown",
   "id": "13d5b30e",
   "metadata": {},
   "source": [
    "The following code snippets show how to build Tensorflow dataset in a tensor. You will then see two approaches for connecting two tensors and six approaches for using the shuffle, batch, and repeat methods."
   ]
  },
  {
   "cell_type": "code",
   "execution_count": null,
   "id": "bc81da45",
   "metadata": {},
   "outputs": [],
   "source": [
    "#import tensorflow\n",
    "import tensorflow as tf\n",
    "\n",
    "# hide warnings about rebuilding tensor flow\n",
    "import os\n",
    "os.environ['TF_CPP_MIN_LOG_LEVEL'] = '1'\n",
    "\n",
    "# import numpy, a math library\n",
    "import numpy as np\n",
    "np.set_printoptions(precision=3)"
   ]
  },
  {
   "cell_type": "markdown",
   "id": "367c31ed",
   "metadata": {},
   "source": [
    "### Building Tensorflow dataset in a tensor"
   ]
  },
  {
   "cell_type": "code",
   "execution_count": null,
   "id": "f0e3c5b2",
   "metadata": {},
   "outputs": [],
   "source": [
    "a = [1.2, 3.4, 7.5, 4.1, 5.0, 1.0]\n",
    "\n",
    "ds = tf.data.Dataset.from_tensor_slices(a)\n",
    "\n",
    "print(ds)"
   ]
  },
  {
   "cell_type": "code",
   "execution_count": null,
   "id": "3eba4af0",
   "metadata": {},
   "outputs": [],
   "source": [
    "for item in ds:\n",
    "    print(item)"
   ]
  },
  {
   "cell_type": "code",
   "execution_count": null,
   "id": "cb5372d8",
   "metadata": {},
   "outputs": [],
   "source": [
    "ds_batch = ds.batch(1)\n",
    "\n",
    "for i, elem in enumerate(ds_batch, 100):\n",
    "    print('batch {}:'.format(i), elem.numpy())"
   ]
  },
  {
   "cell_type": "markdown",
   "id": "17f6c6b7",
   "metadata": {},
   "source": [
    "### Connecting two tensors in one dataset: Approach 1"
   ]
  },
  {
   "cell_type": "code",
   "execution_count": null,
   "id": "c19ebccc",
   "metadata": {},
   "outputs": [],
   "source": [
    "# set the seed\n",
    "\n",
    "tf.random.set_seed(1)\n",
    "\n",
    "t_x = tf.random.uniform([4,3], dtype=tf.float32)\n",
    "t_y = tf.range(4)"
   ]
  },
  {
   "cell_type": "code",
   "execution_count": null,
   "id": "c692dbdf",
   "metadata": {},
   "outputs": [],
   "source": [
    "ds_x = tf.data.Dataset.from_tensor_slices(t_x)\n",
    "ds_y = tf.data.Dataset.from_tensor_slices(t_y)\n",
    "\n",
    "ds_joint = tf.data.Dataset.zip((ds_x, ds_y))"
   ]
  },
  {
   "cell_type": "code",
   "execution_count": null,
   "id": "4caf9c55",
   "metadata": {},
   "outputs": [],
   "source": [
    "for example in ds_joint:\n",
    "    print(' x: ', example[0].numpy(),\n",
    "          ' y: ', example[1].numpy())"
   ]
  },
  {
   "cell_type": "markdown",
   "id": "23ad3327",
   "metadata": {},
   "source": [
    "### Connecting two tensors in one dataset: Approach 2"
   ]
  },
  {
   "cell_type": "code",
   "execution_count": null,
   "id": "acd544c4",
   "metadata": {},
   "outputs": [],
   "source": [
    "ds_joint = tf.data.Dataset.from_tensor_slices((t_x, t_y))\n",
    "\n",
    "for example in ds_joint:\n",
    "    print(' x: ', example[0].numpy(),\n",
    "          ' y: ', example[1].numpy())"
   ]
  },
  {
   "cell_type": "code",
   "execution_count": null,
   "id": "0682f231",
   "metadata": {},
   "outputs": [],
   "source": [
    "ds_trans = ds_joint.map(lambda x, y: (x*2-1.0,y))\n",
    "\n",
    "for example in ds_trans:\n",
    "    print(' x: ', example[0].numpy(),\n",
    "          ' y: ', example[1].numpy())"
   ]
  },
  {
   "cell_type": "markdown",
   "id": "847751b8",
   "metadata": {},
   "source": [
    "### Shuffle, batch, repeat method (1/6)"
   ]
  },
  {
   "cell_type": "code",
   "execution_count": null,
   "id": "67ac09a0",
   "metadata": {},
   "outputs": [],
   "source": [
    "tf.random.set_seed(1)\n",
    "\n",
    "ds = ds_joint.shuffle(4).batch(2).repeat(3)\n",
    "\n",
    "for i,(batch_x, batch_y) in enumerate(ds):\n",
    "    print(i, batch_x.shape, batch_y.numpy())"
   ]
  },
  {
   "cell_type": "markdown",
   "id": "45d4fae2",
   "metadata": {},
   "source": [
    "### Shuffle, batch, repeat method (2/6)"
   ]
  },
  {
   "cell_type": "code",
   "execution_count": null,
   "id": "013ca71f",
   "metadata": {},
   "outputs": [],
   "source": [
    "ds = ds_joint.batch(3).repeat(count=2)\n",
    "\n",
    "for i,(batch_x, batch_y) in enumerate(ds):\n",
    "     print(i, batch_x.shape, batch_y.numpy())"
   ]
  },
  {
   "cell_type": "code",
   "execution_count": null,
   "id": "69413b38",
   "metadata": {},
   "outputs": [],
   "source": [
    "ds = ds_joint.repeat(count=2).batch(3)\n",
    "\n",
    "for i,(batch_x, batch_y) in enumerate(ds):\n",
    "     print(i, batch_x.shape, batch_y.numpy())"
   ]
  },
  {
   "cell_type": "markdown",
   "id": "f6e60672",
   "metadata": {},
   "source": [
    "### Shuffle, batch, repeat method (3/6)"
   ]
  },
  {
   "cell_type": "code",
   "execution_count": null,
   "id": "f297af86",
   "metadata": {},
   "outputs": [],
   "source": [
    "tf.random.set_seed(1)\n",
    "\n",
    "ds = ds_joint.shuffle(4).batch(2).repeat(3)\n",
    "\n",
    "for i,(batch_x, batch_y) in enumerate(ds):\n",
    "     print(i, batch_x.shape, batch_y.numpy())"
   ]
  },
  {
   "cell_type": "markdown",
   "id": "794c0c30",
   "metadata": {},
   "source": [
    "### Shuffle, batch, repeat method (4/6)"
   ]
  },
  {
   "cell_type": "code",
   "execution_count": null,
   "id": "956e55e9",
   "metadata": {},
   "outputs": [],
   "source": [
    "tf.random.set_seed(1)\n",
    "\n",
    "ds = ds_joint.shuffle(4).batch(2).repeat(20)\n",
    "\n",
    "for i,(batch_x, batch_y) in enumerate(ds):\n",
    "     print(i, batch_x.shape, batch_y.numpy())"
   ]
  },
  {
   "cell_type": "markdown",
   "id": "7e5cd860",
   "metadata": {},
   "source": [
    "### Shuffle, batch, repeat method (5/6)"
   ]
  },
  {
   "cell_type": "code",
   "execution_count": null,
   "id": "eb6537b1",
   "metadata": {},
   "outputs": [],
   "source": [
    "tf.random.set_seed(1)\n",
    "\n",
    "ds = ds_joint.batch(2).shuffle(4).repeat(3)\n",
    "\n",
    "for i,(batch_x, batch_y) in enumerate(ds):\n",
    "     print(i, batch_x.shape, batch_y.numpy())"
   ]
  },
  {
   "cell_type": "markdown",
   "id": "a226a581",
   "metadata": {},
   "source": [
    "### Shuffle, batch, repeat method (6/6)"
   ]
  },
  {
   "cell_type": "code",
   "execution_count": null,
   "id": "f969d696",
   "metadata": {},
   "outputs": [],
   "source": [
    "tf.random.set_seed(1)\n",
    "\n",
    "ds = ds_joint.batch(2).repeat(3).shuffle(4)\n",
    "\n",
    "for i,(batch_x, batch_y) in enumerate(ds):\n",
    "     print(i, batch_x.shape, batch_y.numpy())"
   ]
  }
 ],
 "metadata": {
  "kernelspec": {
   "display_name": "Python 3 (ipykernel)",
   "language": "python",
   "name": "python3"
  },
  "language_info": {
   "codemirror_mode": {
    "name": "ipython",
    "version": 3
   },
   "file_extension": ".py",
   "mimetype": "text/x-python",
   "name": "python",
   "nbconvert_exporter": "python",
   "pygments_lexer": "ipython3",
   "version": "3.9.13"
  }
 },
 "nbformat": 4,
 "nbformat_minor": 5
}
